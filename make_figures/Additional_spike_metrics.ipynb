{
 "cells": [
  {
   "cell_type": "code",
   "execution_count": 1,
   "metadata": {},
   "outputs": [],
   "source": [
    "%load_ext autoreload\n",
    "%autoreload 2\n",
    "%config Completer.use_jedi = False"
   ]
  },
  {
   "cell_type": "code",
   "execution_count": 2,
   "metadata": {},
   "outputs": [],
   "source": [
    "import numpy as np\n",
    "import matplotlib.pyplot as plt\n",
    "import h5py\n",
    "from glob import glob\n",
    "from tqdm import tqdm\n",
    "import xarray as xr\n",
    "import os, sys\n",
    "import scipy\n",
    "import pandas as pd\n",
    "from scipy.ndimage import gaussian_filter\n",
    "from sklearn.decomposition import PCA\n",
    "from scipy import stats\n",
    "from scipy import interpolate\n",
    "from glob import glob\n",
    "\n",
    "from mpl_toolkits.axes_grid1.anchored_artists import AnchoredSizeBar\n",
    "\n",
    "from allensdk.brain_observatory.ecephys.ecephys_project_cache import EcephysProjectCache\n",
    "\n",
    "from scipy.ndimage import gaussian_filter1d\n",
    "\n",
    "from utils import *\n",
    "\n",
    "from scipy.stats import skew, kurtosis"
   ]
  },
  {
   "cell_type": "code",
   "execution_count": 3,
   "metadata": {},
   "outputs": [],
   "source": [
    "# for plotting\n",
    "plt.rcParams.update({'font.size': 14})"
   ]
  },
  {
   "cell_type": "code",
   "execution_count": 4,
   "metadata": {},
   "outputs": [],
   "source": [
    "exp_meta_data_dir = '../meta_data/exp'\n",
    "exp_data_dir = '../processed_data/exp'\n",
    "sim_data_dir = '../processed_data/sim'\n",
    "\n",
    "fig_dir = 'Figures/Supplementary_figures/temporal_dynamics'"
   ]
  },
  {
   "cell_type": "markdown",
   "metadata": {},
   "source": [
    "# Load data from experiments"
   ]
  },
  {
   "cell_type": "code",
   "execution_count": 5,
   "metadata": {},
   "outputs": [],
   "source": [
    "# Load meta data\n",
    "manifest_path = os.path.join(exp_meta_data_dir, 'ecephys_cache_dir_10_31', \"manifest.json\")\n",
    "#manifest_path = os.path.join(exp_meta_data_dir, \"manifest.json\")\n",
    "cache = EcephysProjectCache.from_warehouse(manifest=manifest_path)"
   ]
  },
  {
   "cell_type": "markdown",
   "metadata": {},
   "source": [
    "## LFP and CSD"
   ]
  },
  {
   "cell_type": "raw",
   "metadata": {},
   "source": [
    "channels = cache.get_channels()\n",
    "probes = cache.get_probes()"
   ]
  },
  {
   "cell_type": "markdown",
   "metadata": {},
   "source": [
    "### Load channel depth data"
   ]
  },
  {
   "cell_type": "code",
   "execution_count": 6,
   "metadata": {},
   "outputs": [],
   "source": [
    "#filename = 'cortical_depth_'+str(session_id)+'.csv'\n",
    "#loadpath = os.path.join(exp_meta_data_dir, 'probes_cortical_depths', filename)\n",
    "sessions_df_depth = dict()\n",
    "loadpaths = sorted(glob(os.path.join(exp_meta_data_dir, 'probes_cortical_depths', '*')))\n",
    "for loadpath in loadpaths:\n",
    "    session_id = loadpath.split('/')[-1].split('.')[0].split('_')[-1]\n",
    "    df_depth = pd.read_csv(loadpath, sep=' ')\n",
    "    df_depth = df_depth.set_index('id')\n",
    "    sessions_df_depth[session_id] = df_depth"
   ]
  },
  {
   "cell_type": "markdown",
   "metadata": {},
   "source": [
    "## Load spike trains"
   ]
  },
  {
   "cell_type": "code",
   "execution_count": 7,
   "metadata": {},
   "outputs": [],
   "source": [
    "exp_spike_data_dir = os.path.join(exp_data_dir, 'spikes', 'V1')\n",
    "filename = 'sessions_spike_counts_-1to0pnt5s_white_flash.npy'\n",
    "\n",
    "loadpath = os.path.join(exp_spike_data_dir, filename)\n",
    "\n",
    "sessions_spike_trains_V1 = np.load(loadpath, allow_pickle = True)[()]"
   ]
  },
  {
   "cell_type": "markdown",
   "metadata": {},
   "source": [
    "#### Load meta data"
   ]
  },
  {
   "cell_type": "raw",
   "metadata": {},
   "source": [
    "units = cache.get_units()"
   ]
  },
  {
   "cell_type": "markdown",
   "metadata": {},
   "source": [
    "## Load simulation data"
   ]
  },
  {
   "cell_type": "code",
   "execution_count": 8,
   "metadata": {},
   "outputs": [],
   "source": [
    "selected_sims_data_dir = os.path.join(sim_data_dir, 'model_versions')"
   ]
  },
  {
   "cell_type": "code",
   "execution_count": 9,
   "metadata": {},
   "outputs": [],
   "source": [
    "nchan_sim = 23           # Number of channels on probe in simulation\n",
    "\n",
    "trial_dur_sim = 750      # Duration one trial (ms)\n",
    "tstim_onset_sim = 250    # Stimulus onset in each trial (ms)\n",
    "ntrials_sim = 10         # Number of trials"
   ]
  },
  {
   "cell_type": "markdown",
   "metadata": {},
   "source": [
    "### CSD"
   ]
  },
  {
   "cell_type": "markdown",
   "metadata": {},
   "source": [
    "## Spikes"
   ]
  },
  {
   "cell_type": "code",
   "execution_count": 10,
   "metadata": {},
   "outputs": [],
   "source": [
    "def find_all_fir_rates_files_sim(path,filename):\n",
    "    \n",
    "    result = dict()\n",
    "    for root, dirs, files in os.walk(path):\n",
    "        if len(glob(os.path.join(root,filename)))>0:\n",
    "            \n",
    "            fir_rate_file_path = glob(os.path.join(root,filename))[0]\n",
    "            sim_name = fir_rate_file_path.split('/')[-2]\n",
    "            fir_rate_file = np.load(fir_rate_file_path, allow_pickle=True)[()]\n",
    "            result[sim_name] = fir_rate_file\n",
    "    return result"
   ]
  },
  {
   "cell_type": "code",
   "execution_count": 11,
   "metadata": {},
   "outputs": [
    {
     "name": "stdout",
     "output_type": "stream",
     "text": [
      "['old_model', 'intermediate_model', 'final_model']\n"
     ]
    }
   ],
   "source": [
    "selected_sims_data_dir = os.path.join(sim_data_dir, 'model_versions')\n",
    "timestamps_configs = find_all_fir_rates_files_sim(selected_sims_data_dir, 'timestamps_with_neuron_ids.npy')\n",
    "sim_names = list(timestamps_configs.keys())\n",
    "print(sim_names)\n",
    "sim_name = sim_names[-1]"
   ]
  },
  {
   "cell_type": "raw",
   "metadata": {},
   "source": [
    "for sim_name in list(timestamps_configs.keys()):\n",
    "    if 'old' not in sim_name:\n",
    "        del timestamps_configs[sim_name]\n",
    "timestamps_configs.keys()"
   ]
  },
  {
   "cell_type": "markdown",
   "metadata": {},
   "source": [
    "# Make figures"
   ]
  },
  {
   "cell_type": "markdown",
   "metadata": {},
   "source": [
    "### Sim CSD"
   ]
  },
  {
   "cell_type": "code",
   "execution_count": 12,
   "metadata": {},
   "outputs": [],
   "source": [
    "\n",
    "step_depth_ticks_sim = 5\n",
    "step_depth_ticklabels_sim = 200\n",
    "#nchan_sim = csd_sims[list(csd_sims.keys())[0]]['trial_avg'].shape[0]\n",
    "nchan_sim = 23\n",
    "if nchan_sim == 51:\n",
    "    nchan_sim = int(csd_sims[list(csd_sims.keys())[0]][()]['trial_avg'].shape[0]/2)+1\n",
    "depth_ticks_sim = np.arange(0, nchan_sim, step_depth_ticks_sim)\n",
    "depth_ticklabels_sim = -np.arange(0, 1000, step_depth_ticklabels_sim, dtype = 'int')\n",
    "\n",
    "step_time_ticks_sim = 20\n",
    "time_tick_stop_sim = 100\n",
    "time_tick_start_sim = 0\n",
    "time_ticks_sim = np.arange(time_tick_start_sim, time_tick_stop_sim+step_time_ticks_sim, step_time_ticks_sim)\n",
    "time_ticklabels_sim = np.arange(time_tick_start_sim, time_tick_stop_sim+step_time_ticks_sim, step_time_ticks_sim)"
   ]
  },
  {
   "cell_type": "code",
   "execution_count": 13,
   "metadata": {},
   "outputs": [],
   "source": [
    "sims_labels = dict()\n",
    "\n",
    "sims_labels['old_model'] = 'Original model'\n",
    "sims_labels['intermediate_model'] = 'Model w/adjusted\\n syn. weights'\n",
    "sims_labels['final_model'] = 'Final model \\nw/feedback and LGN'\n",
    "\n",
    "sims_colors = dict()\n",
    "sims_colors['old_model'] = 'b'\n",
    "sims_colors['intermediate_model'] = 'g'\n",
    "sims_colors['final_model'] = 'tab:orange'"
   ]
  },
  {
   "cell_type": "code",
   "execution_count": null,
   "metadata": {},
   "outputs": [],
   "source": []
  },
  {
   "cell_type": "markdown",
   "metadata": {},
   "source": [
    "### Spikes"
   ]
  },
  {
   "cell_type": "code",
   "execution_count": 14,
   "metadata": {},
   "outputs": [],
   "source": [
    "sims_spike_trains_cell_pops = dict()"
   ]
  },
  {
   "cell_type": "code",
   "execution_count": 15,
   "metadata": {},
   "outputs": [
    {
     "name": "stdout",
     "output_type": "stream",
     "text": [
      "final_model\n",
      "e23Cux2\n",
      "e4Nr5a1\n",
      "e4Rorb\n",
      "e4Scnn1a\n",
      "e4other\n",
      "e5Rbp4\n",
      "e5noRbp4\n",
      "e6Ntsr1\n",
      "i1Htr3a\n",
      "i23Htr3a\n",
      "i23Pvalb\n",
      "i23Sst\n",
      "i4Htr3a\n",
      "i4Pvalb\n",
      "i4Sst\n",
      "i5Htr3a\n",
      "i5Pvalb\n",
      "i5Sst\n",
      "i6Htr3a\n",
      "i6Pvalb\n",
      "i6Sst\n",
      "intermediate_model\n",
      "e23Cux2\n",
      "e4Nr5a1\n",
      "e4Rorb\n",
      "e4Scnn1a\n",
      "e4other\n",
      "e5Rbp4\n",
      "e5noRbp4\n",
      "e6Ntsr1\n",
      "i1Htr3a\n",
      "i23Htr3a\n",
      "i23Pvalb\n",
      "i23Sst\n",
      "i4Htr3a\n",
      "i4Pvalb\n",
      "i4Sst\n",
      "i5Htr3a\n",
      "i5Pvalb\n",
      "i5Sst\n",
      "i6Htr3a\n",
      "i6Pvalb\n",
      "i6Sst\n",
      "old_model\n",
      "e23Cux2\n",
      "e4Nr5a1\n",
      "e4Rorb\n",
      "e4Scnn1a\n",
      "e4other\n",
      "e5Rbp4\n",
      "e5noRbp4\n",
      "e6Ntsr1\n",
      "i1Htr3a\n",
      "i23Htr3a\n",
      "i23Pvalb\n",
      "i23Sst\n",
      "i4Htr3a\n",
      "i4Pvalb\n",
      "i4Sst\n",
      "i5Htr3a\n",
      "i5Pvalb\n",
      "i5Sst\n",
      "i6Htr3a\n",
      "i6Pvalb\n",
      "i6Sst\n"
     ]
    }
   ],
   "source": [
    "\n",
    "for sim_name in sorted(list(timestamps_configs.keys())):\n",
    "    print(sim_name)\n",
    "\n",
    "    timestamps_all_cell_pops = timestamps_configs[sim_name]\n",
    "    cell_names = list(timestamps_all_cell_pops.keys())\n",
    "\n",
    "\n",
    "    sim_spike_trains_cell_pops = dict()\n",
    "\n",
    "    for cell_name in cell_names:\n",
    "        print(cell_name)\n",
    "        timestamps_cell_pop = timestamps_all_cell_pops[cell_name]\n",
    "\n",
    "        neuron_ids = timestamps_cell_pop['neuron_ids_of_timestamps']\n",
    "        trials = timestamps_cell_pop['trials']\n",
    "        timestamps = timestamps_cell_pop['timestamps']\n",
    "        #timestamps = timestamps_cell_pop['timestamps_by_trial']\n",
    "        trial_dur_sim = timestamps_cell_pop['trial_dur']\n",
    "        #ntrials_sim = len(np.unique(trials))\n",
    "        '''TODO: Implement general way to determine # of trials (that also works for sims that lasted a bit too long)'''\n",
    "        ntrials_sim = 10\n",
    "        timestamps = timestamps % trial_dur_sim\n",
    "        all_neuron_ids = timestamps_cell_pop['all_neuron_ids_in_pop']\n",
    "\n",
    "        spike_trains = np.zeros((len(all_neuron_ids), ntrials_sim, trial_dur_sim))\n",
    "        bins = np.arange(0,trial_dur_sim+1,1)\n",
    "\n",
    "        for i_nrn, neuron_id in enumerate(all_neuron_ids):\n",
    "            mask_neuron_id = neuron_ids == neuron_id\n",
    "\n",
    "            timestamps_nrn = timestamps[mask_neuron_id]\n",
    "\n",
    "            trials_this_nrn = trials[mask_neuron_id]\n",
    "\n",
    "            for trial in np.unique(trials_this_nrn):\n",
    "                if trial >= ntrials_sim:\n",
    "                    continue\n",
    "                mask_trial = trials_this_nrn == trial\n",
    "                timestamps_nrn_this_trial = timestamps_nrn[mask_trial]\n",
    "                spike_train_trial, _ = np.histogram(timestamps_nrn_this_trial, bins)\n",
    "\n",
    "                spike_trains[i_nrn, int(trial)] = spike_train_trial\n",
    "\n",
    "        sim_spike_trains_cell_pops[cell_name] = spike_trains[:,:ntrials_sim]\n",
    "        \n",
    "    sims_spike_trains_cell_pops[sim_name] = sim_spike_trains_cell_pops\n",
    "    \n",
    "#del timestamps_configs"
   ]
  },
  {
   "cell_type": "code",
   "execution_count": 16,
   "metadata": {},
   "outputs": [
    {
     "name": "stdout",
     "output_type": "stream",
     "text": [
      "e23Cux2\n",
      "e4Nr5a1\n",
      "e4Rorb\n",
      "e4Scnn1a\n",
      "e4other\n",
      "e5Rbp4\n",
      "e5noRbp4\n",
      "e6Ntsr1\n",
      "i1Htr3a\n",
      "i23Htr3a\n",
      "i23Pvalb\n",
      "i23Sst\n",
      "i4Htr3a\n",
      "i4Pvalb\n",
      "i4Sst\n",
      "i5Htr3a\n",
      "i5Pvalb\n",
      "i5Sst\n",
      "i6Htr3a\n",
      "i6Pvalb\n",
      "i6Sst\n",
      "e23Cux2\n",
      "e4Nr5a1\n",
      "e4Rorb\n",
      "e4Scnn1a\n",
      "e4other\n",
      "e5Rbp4\n",
      "e5noRbp4\n",
      "e6Ntsr1\n",
      "i1Htr3a\n",
      "i23Htr3a\n",
      "i23Pvalb\n",
      "i23Sst\n",
      "i4Htr3a\n",
      "i4Pvalb\n",
      "i4Sst\n",
      "i5Htr3a\n",
      "i5Pvalb\n",
      "i5Sst\n",
      "i6Htr3a\n",
      "i6Pvalb\n",
      "i6Sst\n",
      "e23Cux2\n",
      "e4Nr5a1\n",
      "e4Rorb\n",
      "e4Scnn1a\n",
      "e4other\n",
      "e5Rbp4\n",
      "e5noRbp4\n",
      "e6Ntsr1\n",
      "i1Htr3a\n",
      "i23Htr3a\n",
      "i23Pvalb\n",
      "i23Sst\n",
      "i4Htr3a\n",
      "i4Pvalb\n",
      "i4Sst\n",
      "i5Htr3a\n",
      "i5Pvalb\n",
      "i5Sst\n",
      "i6Htr3a\n",
      "i6Pvalb\n",
      "i6Sst\n"
     ]
    }
   ],
   "source": [
    "sims_spike_trains_RS_FS = dict()\n",
    "\n",
    "for sim_name in sims_spike_trains_cell_pops.keys():\n",
    "\n",
    "    sim_spike_trains_RS_FS = dict()\n",
    "\n",
    "    sim_spike_trains_RS_FS['RS'] = []\n",
    "    sim_spike_trains_RS_FS['FS'] = []\n",
    "\n",
    "    for cell_pop_name, sim_spike_trains_cell_pop in sims_spike_trains_cell_pops[sim_name].items():\n",
    "        print(cell_pop_name)\n",
    "        if cell_pop_name[-5:] != 'Pvalb':\n",
    "            if len(sim_spike_trains_RS_FS['RS']) == 0:\n",
    "                sim_spike_trains_RS_FS['RS'] = sim_spike_trains_cell_pop\n",
    "            else:\n",
    "                sim_spike_trains_RS_FS['RS'] = np.concatenate((sim_spike_trains_RS_FS['RS'], \n",
    "                                                               sim_spike_trains_cell_pop), axis = 0)\n",
    "        else:\n",
    "            if len(sim_spike_trains_RS_FS['FS']) == 0:\n",
    "                sim_spike_trains_RS_FS['FS'] = sim_spike_trains_cell_pop\n",
    "            else:\n",
    "                sim_spike_trains_RS_FS['FS'] = np.concatenate((sim_spike_trains_RS_FS['FS'], \n",
    "                                                               sim_spike_trains_cell_pop), axis = 0)\n",
    "                           \n",
    "    sims_spike_trains_RS_FS[sim_name] = sim_spike_trains_RS_FS\n",
    "    \n",
    "#del sims_spike_trains_cell_pops"
   ]
  },
  {
   "cell_type": "code",
   "execution_count": 17,
   "metadata": {
    "scrolled": true
   },
   "outputs": [
    {
     "name": "stdout",
     "output_type": "stream",
     "text": [
      "e23Cux2\n",
      "e4Nr5a1\n",
      "e4Rorb\n",
      "e4Scnn1a\n",
      "e4other\n",
      "e5Rbp4\n",
      "e5noRbp4\n",
      "e6Ntsr1\n",
      "i1Htr3a\n",
      "i23Htr3a\n",
      "i23Pvalb\n",
      "i23Sst\n",
      "i4Htr3a\n",
      "i4Pvalb\n",
      "i4Sst\n",
      "i5Htr3a\n",
      "i5Pvalb\n",
      "i5Sst\n",
      "i6Htr3a\n",
      "i6Pvalb\n",
      "i6Sst\n",
      "e23Cux2\n",
      "e4Nr5a1\n",
      "e4Rorb\n",
      "e4Scnn1a\n",
      "e4other\n",
      "e5Rbp4\n",
      "e5noRbp4\n",
      "e6Ntsr1\n",
      "i1Htr3a\n",
      "i23Htr3a\n",
      "i23Pvalb\n",
      "i23Sst\n",
      "i4Htr3a\n",
      "i4Pvalb\n",
      "i4Sst\n",
      "i5Htr3a\n",
      "i5Pvalb\n",
      "i5Sst\n",
      "i6Htr3a\n",
      "i6Pvalb\n",
      "i6Sst\n",
      "e23Cux2\n",
      "e4Nr5a1\n",
      "e4Rorb\n",
      "e4Scnn1a\n",
      "e4other\n",
      "e5Rbp4\n",
      "e5noRbp4\n",
      "e6Ntsr1\n",
      "i1Htr3a\n",
      "i23Htr3a\n",
      "i23Pvalb\n",
      "i23Sst\n",
      "i4Htr3a\n",
      "i4Pvalb\n",
      "i4Sst\n",
      "i5Htr3a\n",
      "i5Pvalb\n",
      "i5Sst\n",
      "i6Htr3a\n",
      "i6Pvalb\n",
      "i6Sst\n"
     ]
    }
   ],
   "source": [
    "sims_spike_trains_layer_pops = dict()\n",
    "\n",
    "for sim_name in sims_spike_trains_cell_pops.keys():\n",
    "\n",
    "    sim_spike_trains_layer_pops = dict()\n",
    "\n",
    "    sim_spike_trains_layer_pops['RS L2/3'] = []\n",
    "    sim_spike_trains_layer_pops['RS L4'] = []\n",
    "    sim_spike_trains_layer_pops['RS L5'] = []\n",
    "    sim_spike_trains_layer_pops['RS L6'] = []\n",
    "    sim_spike_trains_layer_pops['FS'] = []\n",
    "\n",
    "    for cell_pop_name, sim_spike_trains_cell_pop in sims_spike_trains_cell_pops[sim_name].items():\n",
    "        print(cell_pop_name)#, sim_spike_trains_cell_pops[cell_pop_name].shape)\n",
    "        #if cell_pop_name[0] == 'e' and cell_pop_name[1] == '2':\n",
    "        if cell_pop_name[-5:] != 'Pvalb' and cell_pop_name[1] == '2':\n",
    "            if len(sim_spike_trains_layer_pops['RS L2/3']) == 0:\n",
    "                sim_spike_trains_layer_pops['RS L2/3'] = sim_spike_trains_cell_pop\n",
    "            else:\n",
    "                sim_spike_trains_layer_pops['RS L2/3'] = np.concatenate((sim_spike_trains_layer_pops['RS L2/3'], \n",
    "                                                               sim_spike_trains_cell_pop), axis = 0)\n",
    "\n",
    "        #elif cell_pop_name[0] == 'e' and cell_pop_name[1] == '4':\n",
    "        elif cell_pop_name[-5:] != 'Pvalb' and cell_pop_name[1] == '4':\n",
    "            if len(sim_spike_trains_layer_pops['RS L4']) == 0:\n",
    "                sim_spike_trains_layer_pops['RS L4'] = sim_spike_trains_cell_pop\n",
    "            else:\n",
    "                sim_spike_trains_layer_pops['RS L4'] = np.concatenate((sim_spike_trains_layer_pops['RS L4'], \n",
    "                                                               sim_spike_trains_cell_pop), axis = 0)\n",
    "\n",
    "        elif cell_pop_name[-5:] != 'Pvalb' and cell_pop_name[1] == '5':\n",
    "            if len(sim_spike_trains_layer_pops['RS L5']) == 0:\n",
    "                sim_spike_trains_layer_pops['RS L5'] = sim_spike_trains_cell_pop\n",
    "            else:\n",
    "                sim_spike_trains_layer_pops['RS L5'] = np.concatenate((sim_spike_trains_layer_pops['RS L5'], \n",
    "                                                               sim_spike_trains_cell_pop), axis = 0)\n",
    "\n",
    "        elif cell_pop_name[-5:] != 'Pvalb' and cell_pop_name[1] == '6':\n",
    "            if len(sim_spike_trains_layer_pops['RS L6']) == 0:\n",
    "                sim_spike_trains_layer_pops['RS L6'] = sim_spike_trains_cell_pop\n",
    "            else:\n",
    "                sim_spike_trains_layer_pops['RS L6'] = np.concatenate((sim_spike_trains_layer_pops['RS L6'], \n",
    "                                                               sim_spike_trains_cell_pop), axis = 0)\n",
    "\n",
    "        elif cell_pop_name[-5:] == 'Pvalb':\n",
    "            if len(sim_spike_trains_layer_pops['FS']) == 0:\n",
    "                sim_spike_trains_layer_pops['FS'] = sim_spike_trains_cell_pop\n",
    "            else:\n",
    "                sim_spike_trains_layer_pops['FS'] = np.concatenate((sim_spike_trains_layer_pops['FS'], \n",
    "                                                               sim_spike_trains_cell_pop), axis = 0)\n",
    "                \n",
    "                \n",
    "    sims_spike_trains_layer_pops[sim_name] = sim_spike_trains_layer_pops\n",
    "    \n",
    "#del sims_spike_trains_cell_pops"
   ]
  },
  {
   "cell_type": "markdown",
   "metadata": {},
   "source": [
    "### Plot firing rates"
   ]
  },
  {
   "cell_type": "code",
   "execution_count": 18,
   "metadata": {},
   "outputs": [],
   "source": [
    "loadpaths_unit_depths = sorted(glob(os.path.join(exp_meta_data_dir, 'units_cortical_depth', '*')))"
   ]
  },
  {
   "cell_type": "code",
   "execution_count": 19,
   "metadata": {},
   "outputs": [],
   "source": [
    "\n",
    "sessions_units_depth = dict()\n",
    "\n",
    "\n",
    "for file_path in loadpaths_unit_depths:\n",
    "    properties = dict()\n",
    "    \n",
    "    session_id = file_path.split('/')[-1].split('_')[-1].split('.')[0]\n",
    "    units_depth = pd.read_csv(file_path, sep=' ')\n",
    "    units_depth = units_depth.set_index('id')\n",
    "    \n",
    "    properties['layer'] = units_depth['cortical_layer']\n",
    "    properties['depth'] = units_depth['cortical_depth']\n",
    "    \n",
    "    sessions_units_depth[session_id] = properties"
   ]
  },
  {
   "cell_type": "markdown",
   "metadata": {},
   "source": [
    "#### Split into layers (but merge inhibitory cells)"
   ]
  },
  {
   "cell_type": "code",
   "execution_count": 20,
   "metadata": {},
   "outputs": [],
   "source": [
    "sessions_spike_trains_layer_pops = dict()\n",
    "#for session_id in sessions_units_dist_top_channel.keys():\n",
    "for session_id, units_depth in sessions_units_depth.items():\n",
    "    #units_dist_top_channel = sessions_units_dist_top_channel[session_id]\n",
    "    session_id = int(session_id)\n",
    "    \n",
    "    spike_trains_E23 = []\n",
    "    spike_trains_E4 = []\n",
    "    spike_trains_E5 = []\n",
    "    spike_trains_E6 = []\n",
    "    \n",
    "    spike_trains_I = []\n",
    "    \n",
    "    \n",
    "    if session_id in sessions_spike_trains_V1.keys():\n",
    "        for unit_type in sessions_spike_trains_V1[session_id].keys():\n",
    "            spike_trains = sessions_spike_trains_V1[session_id][unit_type]\n",
    "\n",
    "            for i_unit, unit_id in enumerate(spike_trains.unit_id.values):\n",
    "                spike_train = spike_trains[:,:,i_unit]\n",
    "                #unit_dist_top_channel = units_dist_top_channel[unit_id]\n",
    "                layer_label = units_depth['layer'][unit_id]\n",
    "\n",
    "                if layer_label == 2:\n",
    "                    # L23\n",
    "                    if unit_type == 'exc':\n",
    "                        spike_trains_E23.append(spike_train.values)\n",
    "                elif layer_label == 4:\n",
    "                    if unit_type == 'exc':\n",
    "                        spike_trains_E4.append(spike_train.values)\n",
    "                elif layer_label == 5:\n",
    "                    if unit_type == 'exc':\n",
    "                        spike_trains_E5.append(spike_train.values)\n",
    "                elif layer_label == 6:\n",
    "                    if unit_type == 'exc':\n",
    "                        spike_trains_E6.append(spike_train.values)\n",
    "                        \n",
    "                if unit_type == 'inh':\n",
    "                    spike_trains_I.append(spike_train.values)\n",
    "\n",
    "        spike_trains_layer_pops = dict()\n",
    "\n",
    "        spike_trains_layer_pops['RS L2/3'] = np.array(spike_trains_E23)\n",
    "        spike_trains_layer_pops['RS L4'] = np.array(spike_trains_E4)\n",
    "        spike_trains_layer_pops['RS L5'] = np.array(spike_trains_E5)\n",
    "        spike_trains_layer_pops['RS L6'] = np.array(spike_trains_E6)\n",
    "        spike_trains_layer_pops['FS'] = np.array(spike_trains_I)\n",
    "\n",
    "        sessions_spike_trains_layer_pops[session_id] = spike_trains_layer_pops\n",
    "        "
   ]
  },
  {
   "cell_type": "markdown",
   "metadata": {},
   "source": [
    "## Calculate moments of peak firing rate and latencies to peak distributions across cells in layers"
   ]
  },
  {
   "cell_type": "markdown",
   "metadata": {},
   "source": [
    "### For experiments"
   ]
  },
  {
   "cell_type": "code",
   "execution_count": 21,
   "metadata": {},
   "outputs": [],
   "source": [
    "#kernel_window_width = 5 # ms\n",
    "#k = np.ones((kernel_window_width))\n",
    "\n",
    "tstim_onset = 1000\n",
    "\n",
    "sessions_peak_fir_rate = dict()\n",
    "sessions_lat_peak_fir_rate = dict()\n",
    "sessions_1st_mom = dict()\n",
    "sessions_2nd_mom = dict()\n",
    "sessions_3rd_mom = dict()\n",
    "sessions_4th_mom = dict()\n",
    "\n",
    "sessions_1st_mom_lat = dict()\n",
    "sessions_2nd_mom_lat = dict()\n",
    "sessions_3rd_mom_lat = dict()\n",
    "sessions_4th_mom_lat = dict()\n",
    "for session_id in list(sessions_spike_trains_layer_pops.keys()):\n",
    "    peak_fir_rate_pops = dict()\n",
    "    lat_to_peak_pops = dict()\n",
    "    \n",
    "    fst_mom_pops = dict()\n",
    "    snd_mom_pops = dict()\n",
    "    trd_mom_pops = dict()\n",
    "    frt_mom_pops = dict()\n",
    "    \n",
    "    fst_mom_lat_pops = dict()\n",
    "    snd_mom_lat_pops = dict()\n",
    "    trd_mom_lat_pops = dict()\n",
    "    frt_mom_lat_pops = dict()\n",
    "    for pop_name in sessions_spike_trains_layer_pops[session_id].keys():\n",
    "        session_spike_trains_layer_pops = sessions_spike_trains_layer_pops[session_id][pop_name]\n",
    "        if len(session_spike_trains_layer_pops) < 10:\n",
    "            continue\n",
    "        \n",
    "        fir_rate_cells_plot = np.mean(session_spike_trains_layer_pops[:,:,tstim_onset:tstim_onset+100], axis = 1)*1E3\n",
    "        fir_rate_cells_plot = gaussian_filter(fir_rate_cells_plot, sigma = (0,2))\n",
    "        #R = ss.lfilter(k, 1, fir_rate_cells_plot, axis=1)\n",
    "        \n",
    "        #peak_fir_rate_pops[pop_name] = np.max(R, axis = 1)\n",
    "        peak_fir_rate_pops[pop_name] = np.max(fir_rate_cells_plot, axis = 1)\n",
    "        \n",
    "        fst_mom_pops[pop_name] = np.mean(peak_fir_rate_pops[pop_name])\n",
    "        snd_mom_pops[pop_name] = np.std(peak_fir_rate_pops[pop_name])\n",
    "        trd_mom_pops[pop_name] = skew(peak_fir_rate_pops[pop_name])\n",
    "        frt_mom_pops[pop_name] = kurtosis(peak_fir_rate_pops[pop_name])\n",
    "        \n",
    "        #if 'L2/3' in pop_name or 'L4' in pop_name:\n",
    "        #    print(session_id, pop_name, np.any(fir_rate_cells_plot, axis = 1), np.sum(np.any(fir_rate_cells_plot, axis = 1)), '\\n')\n",
    "        \n",
    "        lat_to_peak_pops[pop_name] = np.argmax(fir_rate_cells_plot, axis = 1)[np.any(fir_rate_cells_plot, axis = 1)]\n",
    "        \n",
    "        if len(lat_to_peak_pops[pop_name]) < 5:\n",
    "            continue\n",
    "        fst_mom_lat_pops[pop_name] = np.mean(lat_to_peak_pops[pop_name])\n",
    "        snd_mom_lat_pops[pop_name] = np.std(lat_to_peak_pops[pop_name])\n",
    "        trd_mom_lat_pops[pop_name] = skew(lat_to_peak_pops[pop_name])\n",
    "        frt_mom_lat_pops[pop_name] = kurtosis(lat_to_peak_pops[pop_name])\n",
    "        \n",
    "    sessions_peak_fir_rate[session_id] = peak_fir_rate_pops\n",
    "    sessions_lat_peak_fir_rate[session_id] = lat_to_peak_pops\n",
    "    \n",
    "    sessions_1st_mom[session_id] = fst_mom_pops\n",
    "    sessions_2nd_mom[session_id] = snd_mom_pops\n",
    "    sessions_3rd_mom[session_id] = trd_mom_pops\n",
    "    sessions_4th_mom[session_id] = frt_mom_pops\n",
    "    \n",
    "    sessions_1st_mom_lat[session_id] = fst_mom_lat_pops\n",
    "    sessions_2nd_mom_lat[session_id] = snd_mom_lat_pops\n",
    "    sessions_3rd_mom_lat[session_id] = trd_mom_lat_pops\n",
    "    sessions_4th_mom_lat[session_id] = frt_mom_lat_pops"
   ]
  },
  {
   "cell_type": "markdown",
   "metadata": {},
   "source": [
    "### For simulations"
   ]
  },
  {
   "cell_type": "code",
   "execution_count": 22,
   "metadata": {},
   "outputs": [],
   "source": [
    "sims_1st_mom = dict()\n",
    "sims_2nd_mom = dict()\n",
    "sims_3rd_mom = dict()\n",
    "sims_4th_mom = dict()\n",
    "\n",
    "sims_1st_mom_lat = dict()\n",
    "sims_2nd_mom_lat = dict()\n",
    "sims_3rd_mom_lat = dict()\n",
    "sims_4th_mom_lat = dict()\n",
    "    \n",
    "for sim_name in sims_spike_trains_layer_pops.keys():\n",
    "    fst_mom_pops = dict()\n",
    "    snd_mom_pops = dict()\n",
    "    trd_mom_pops = dict()\n",
    "    frt_mom_pops = dict()\n",
    "    \n",
    "    fst_mom_lat_pops = dict()\n",
    "    snd_mom_lat_pops = dict()\n",
    "    trd_mom_lat_pops = dict()\n",
    "    frt_mom_lat_pops = dict()\n",
    "    for pop_name in sims_spike_trains_layer_pops[sim_name].keys():\n",
    "        fir_rate_sim = np.mean(sims_spike_trains_layer_pops[sim_name][pop_name][:,:,tstim_onset_sim:tstim_onset_sim+100], axis = 1)*1E3\n",
    "        fir_rate_sim = gaussian_filter(fir_rate_sim, sigma = (0,2))\n",
    "        \n",
    "        peak_fir_rate_pops[pop_name] = np.max(fir_rate_sim, axis = 1)\n",
    "        \n",
    "        fst_mom_pops[pop_name] = np.mean(peak_fir_rate_pops[pop_name])\n",
    "        snd_mom_pops[pop_name] = np.std(peak_fir_rate_pops[pop_name])\n",
    "        trd_mom_pops[pop_name] = skew(peak_fir_rate_pops[pop_name])    \n",
    "        frt_mom_pops[pop_name] = kurtosis(peak_fir_rate_pops[pop_name])\n",
    "        \n",
    "        lat_to_peak_pops[pop_name] = np.argmax(fir_rate_sim, axis = 1)[np.any(fir_rate_sim, axis = 1)]\n",
    "        \n",
    "        fst_mom_lat_pops[pop_name] = np.mean(lat_to_peak_pops[pop_name])\n",
    "        snd_mom_lat_pops[pop_name] = np.std(lat_to_peak_pops[pop_name])\n",
    "        trd_mom_lat_pops[pop_name] = skew(lat_to_peak_pops[pop_name])    \n",
    "        frt_mom_lat_pops[pop_name] = kurtosis(lat_to_peak_pops[pop_name])\n",
    "        \n",
    "    sims_1st_mom[sim_name] = fst_mom_pops\n",
    "    sims_2nd_mom[sim_name] = snd_mom_pops\n",
    "    sims_3rd_mom[sim_name] = trd_mom_pops\n",
    "    sims_4th_mom[sim_name] = frt_mom_pops\n",
    "    \n",
    "    sims_1st_mom_lat[sim_name] = fst_mom_lat_pops\n",
    "    sims_2nd_mom_lat[sim_name] = snd_mom_lat_pops\n",
    "    sims_3rd_mom_lat[sim_name] = trd_mom_lat_pops\n",
    "    sims_4th_mom_lat[sim_name] = frt_mom_lat_pops\n",
    "    "
   ]
  },
  {
   "cell_type": "markdown",
   "metadata": {},
   "source": [
    "#### Rearrange data for boxplots"
   ]
  },
  {
   "cell_type": "code",
   "execution_count": 23,
   "metadata": {},
   "outputs": [],
   "source": [
    "pops_1st_mom = dict()\n",
    "pops_2nd_mom = dict()\n",
    "pops_3rd_mom = dict()\n",
    "pops_4th_mom = dict()\n",
    "\n",
    "pops_1st_mom_lat = dict()\n",
    "pops_2nd_mom_lat = dict()\n",
    "pops_3rd_mom_lat = dict()\n",
    "pops_4th_mom_lat = dict()\n",
    "\n",
    "for session_id in sessions_1st_mom.keys():\n",
    "    for pop_name in sessions_1st_mom[session_id].keys():\n",
    "        if pop_name not in pops_1st_mom.keys():\n",
    "            pops_1st_mom[pop_name] = []\n",
    "        pops_1st_mom[pop_name].append(sessions_1st_mom[session_id][pop_name])\n",
    "        \n",
    "        if pop_name not in pops_2nd_mom.keys():\n",
    "            pops_2nd_mom[pop_name] = []\n",
    "        pops_2nd_mom[pop_name].append(sessions_2nd_mom[session_id][pop_name])\n",
    "        \n",
    "        if pop_name not in pops_3rd_mom.keys():\n",
    "            pops_3rd_mom[pop_name] = []\n",
    "        pops_3rd_mom[pop_name].append(sessions_3rd_mom[session_id][pop_name])\n",
    "        \n",
    "        if pop_name not in pops_4th_mom.keys():\n",
    "            pops_4th_mom[pop_name] = []\n",
    "        pops_4th_mom[pop_name].append(sessions_4th_mom[session_id][pop_name])\n",
    "        \n",
    "for session_id in sessions_1st_mom_lat.keys():\n",
    "    for pop_name in sessions_1st_mom_lat[session_id].keys():\n",
    "        \n",
    "        if pop_name not in pops_1st_mom_lat.keys():\n",
    "            pops_1st_mom_lat[pop_name] = []\n",
    "        pops_1st_mom_lat[pop_name].append(sessions_1st_mom_lat[session_id][pop_name])\n",
    "        \n",
    "        if pop_name not in pops_2nd_mom_lat.keys():\n",
    "            pops_2nd_mom_lat[pop_name] = []\n",
    "        pops_2nd_mom_lat[pop_name].append(sessions_2nd_mom_lat[session_id][pop_name])\n",
    "        \n",
    "        if pop_name not in pops_3rd_mom_lat.keys():\n",
    "            pops_3rd_mom_lat[pop_name] = []\n",
    "        pops_3rd_mom_lat[pop_name].append(sessions_3rd_mom_lat[session_id][pop_name])\n",
    "        \n",
    "        if pop_name not in pops_4th_mom_lat.keys():\n",
    "            pops_4th_mom_lat[pop_name] = []\n",
    "        pops_4th_mom_lat[pop_name].append(sessions_4th_mom_lat[session_id][pop_name])\n",
    "        \n",
    "pops_moms = dict()\n",
    "pops_moms['1st moment'] = pops_1st_mom\n",
    "pops_moms['2nd moment'] = pops_2nd_mom\n",
    "pops_moms['3rd moment'] = pops_3rd_mom\n",
    "pops_moms['4th moment'] = pops_4th_mom\n",
    "\n",
    "pops_moms_lat = dict()\n",
    "pops_moms_lat['1st moment'] = pops_1st_mom_lat\n",
    "pops_moms_lat['2nd moment'] = pops_2nd_mom_lat\n",
    "pops_moms_lat['3rd moment'] = pops_3rd_mom_lat\n",
    "pops_moms_lat['4th moment'] = pops_4th_mom_lat"
   ]
  },
  {
   "cell_type": "markdown",
   "metadata": {},
   "source": [
    "### Plot distribution of moments for experiments and for simulations"
   ]
  },
  {
   "cell_type": "markdown",
   "metadata": {},
   "source": [
    "#### For magnitude of peak"
   ]
  },
  {
   "cell_type": "code",
   "execution_count": null,
   "metadata": {},
   "outputs": [],
   "source": []
  },
  {
   "cell_type": "code",
   "execution_count": 24,
   "metadata": {
    "scrolled": false
   },
   "outputs": [
    {
     "name": "stderr",
     "output_type": "stream",
     "text": [
      "No handles with labels found to put in legend.\n",
      "No handles with labels found to put in legend.\n",
      "No handles with labels found to put in legend.\n"
     ]
    },
    {
     "data": {
      "image/png": "[encoded data removed]",
      "text/plain": [
       "<Figure size 1008x252 with 5 Axes>"
      ]
     },
     "metadata": {
      "needs_background": "light"
     },
     "output_type": "display_data"
    },
    {
     "data": {
      "image/png": "[encoded data removed]",
      "text/plain": [
       "<Figure size 1008x252 with 5 Axes>"
      ]
     },
     "metadata": {
      "needs_background": "light"
     },
     "output_type": "display_data"
    },
    {
     "data": {
      "image/png": "[encoded data removed]",
      "text/plain": [
       "<Figure size 1008x252 with 5 Axes>"
      ]
     },
     "metadata": {
      "needs_background": "light"
     },
     "output_type": "display_data"
    },
    {
     "data": {
      "image/png": "[encoded data removed]",
      "text/plain": [
       "<Figure size 1008x252 with 5 Axes>"
      ]
     },
     "metadata": {
      "needs_background": "light"
     },
     "output_type": "display_data"
    }
   ],
   "source": [
    "\n",
    "for imom, mom_name in enumerate(pops_moms.keys()):\n",
    "    pops_mom = pops_moms[mom_name]\n",
    "    fig, axes = plt.subplots(ncols = 5, figsize = (14,3.5), sharey = False, sharex = True)\n",
    "    \n",
    "    for ipop, pop_name in enumerate(sorted(pops_mom.keys())):\n",
    "        if 'FS' in pop_name:\n",
    "            iplot = -1\n",
    "            ax = axes[iplot]\n",
    "            if '1st' in mom_name:\n",
    "                ax.set_ylim([-1,90])\n",
    "            elif '2nd' in mom_name:\n",
    "                ax.set_ylim([-1,70])\n",
    "                if '2/3' in pop_name:\n",
    "                    ax.set_ylabel('Firing rate (Hz)')\n",
    "            elif '3rd' in mom_name:\n",
    "                ax.set_ylim([-1,3])\n",
    "            elif '4th' in mom_name:\n",
    "                ax.set_ylim([-3.5,6])\n",
    "        else:\n",
    "            iplot = ipop-1\n",
    "            ax = axes[iplot]\n",
    "            if '1st' in mom_name:\n",
    "                ax.set_ylim([-1,50])\n",
    "                if '2/3' in pop_name:\n",
    "                    ax.set_ylabel('Firing rate (Hz)')\n",
    "            elif '2nd' in mom_name:\n",
    "                ax.set_ylim([-1,40])\n",
    "                if '2/3' in pop_name:\n",
    "                    ax.set_ylabel('Firing rate (Hz)')\n",
    "            elif '3rd' in mom_name:\n",
    "                ax.set_ylim([-1,4])\n",
    "                if '2/3' in pop_name:\n",
    "                    ax.set_ylabel('Skewness')\n",
    "            elif '4th' in mom_name:\n",
    "                ax.set_ylim([-5,16])\n",
    "                if '2/3' in pop_name:\n",
    "                    ax.set_ylabel('Kurtosis')\n",
    "                \n",
    "        if 'FS' not in pop_name and '2/3' not in pop_name:\n",
    "            ax.set_yticklabels([])\n",
    "        \n",
    "        ax.boxplot(pops_mom[pop_name])\n",
    "        \n",
    "        ax.set_title(pop_name)\n",
    "        \n",
    "    for isim, sim_name in enumerate(list(sims_1st_mom.keys())[::-1]):\n",
    "        for ipop, pop_name in enumerate(sims_1st_mom[sim_name].keys()):\n",
    "            if 'FS' in pop_name:\n",
    "                iplot = -1\n",
    "                ax = axes[iplot]\n",
    "            else:\n",
    "                iplot = ipop\n",
    "                ax = axes[iplot]\n",
    "            if '1st' in mom_name:\n",
    "                pop_mom_sim = sims_1st_mom[sim_name][pop_name]\n",
    "            elif '2nd' in mom_name:\n",
    "                pop_mom_sim = sims_2nd_mom[sim_name][pop_name]\n",
    "            elif '3rd' in mom_name:\n",
    "                pop_mom_sim = sims_3rd_mom[sim_name][pop_name]\n",
    "            elif '4th' in mom_name:\n",
    "                pop_mom_sim = sims_4th_mom[sim_name][pop_name]\n",
    "                \n",
    "                \n",
    "            if imom == 0 and iplot == 0:\n",
    "                label = sims_labels[sim_name]\n",
    "            else:\n",
    "                label = None\n",
    "                \n",
    "            ax.plot(1, pop_mom_sim, 'd', markersize = 10, label = label, \\\n",
    "                    color = sims_colors[sim_name], alpha = 0.5, markeredgewidth = 2)\n",
    "    \n",
    "    fig.legend(bbox_to_anchor = (1.0, 0.6))\n",
    "    fig.subplots_adjust(wspace = 0.3, left = 0.05, right = 0.79, bottom = 0.05, top = 0.83)\n",
    "                \n",
    "    fig.suptitle(mom_name, y = 0.99, x = 0.42)\n",
    "    \n",
    "    ax.set_xticks([])\n",
    "    fig_name = 'peak_mag_dist_'+mom_name[:3]+'_mom_all_model_versions.png'\n",
    "    \n",
    "    savepath = os.path.join(fig_dir, fig_name)\n",
    "    \n",
    "    #fig.savefig(savepath, facecolor='w')"
   ]
  },
  {
   "cell_type": "markdown",
   "metadata": {},
   "source": [
    "#### For latency of peak"
   ]
  },
  {
   "cell_type": "code",
   "execution_count": 25,
   "metadata": {
    "scrolled": true
   },
   "outputs": [
    {
     "data": {
      "image/png": "[encoded data removed]",
      "text/plain": [
       "<Figure size 1008x252 with 5 Axes>"
      ]
     },
     "metadata": {
      "needs_background": "light"
     },
     "output_type": "display_data"
    },
    {
     "data": {
      "image/png": "[encoded data removed]",
      "text/plain": [
       "<Figure size 1008x252 with 5 Axes>"
      ]
     },
     "metadata": {
      "needs_background": "light"
     },
     "output_type": "display_data"
    },
    {
     "data": {
      "image/png": "[encoded data removed]",
      "text/plain": [
       "<Figure size 1008x252 with 5 Axes>"
      ]
     },
     "metadata": {
      "needs_background": "light"
     },
     "output_type": "display_data"
    },
    {
     "data": {
      "image/png": "[encoded data removed]",
      "text/plain": [
       "<Figure size 1008x252 with 5 Axes>"
      ]
     },
     "metadata": {
      "needs_background": "light"
     },
     "output_type": "display_data"
    }
   ],
   "source": [
    "\n",
    "for imom, mom_name in enumerate(pops_moms_lat.keys()):\n",
    "    pops_mom_lat = pops_moms_lat[mom_name]\n",
    "    fig, axes = plt.subplots(ncols = 5, figsize = (14,3.5), sharey = False, sharex = True)\n",
    "    \n",
    "    for ipop, pop_name in enumerate(sorted(pops_mom_lat.keys())):\n",
    "        if 'FS' in pop_name:\n",
    "            iplot = -1\n",
    "            ax = axes[iplot]\n",
    "            '''if '1st' in mom_name:\n",
    "                ax.set_ylim([-1,90])\n",
    "            elif '2nd' in mom_name:\n",
    "                ax.set_ylim([-5,3000])\n",
    "            elif '3rd' in mom_name:\n",
    "                ax.set_ylim([-1,3])\n",
    "            elif '4th' in mom_name:\n",
    "                ax.set_ylim([-3.5,6])'''\n",
    "        else:\n",
    "            iplot = ipop-1\n",
    "            ax = axes[iplot]\n",
    "            '''if '1st' in mom_name:\n",
    "                ax.set_ylim([-1,50])\n",
    "            elif '2nd' in mom_name:\n",
    "                ax.set_ylim([-1,1500])\n",
    "            elif '3rd' in mom_name:\n",
    "                ax.set_ylim([-1,4])\n",
    "            elif '4th' in mom_name:\n",
    "                ax.set_ylim([-5,16])'''\n",
    "        \n",
    "        ax.boxplot(pops_mom_lat[pop_name])\n",
    "        \n",
    "        ax.set_title(pop_name)\n",
    "        \n",
    "    for isim, sim_name in enumerate(list(sims_1st_mom_lat.keys())[::-1]):\n",
    "        for ipop, pop_name in enumerate(sims_1st_mom_lat[sim_name].keys()):\n",
    "            if 'FS' in pop_name:\n",
    "                iplot = -1\n",
    "                ax = axes[iplot]\n",
    "            else:\n",
    "                iplot = ipop\n",
    "                ax = axes[iplot]\n",
    "            if '1st' in mom_name:\n",
    "                pop_mom_sim_lat = sims_1st_mom_lat[sim_name][pop_name]\n",
    "                if '2/3' in pop_name:\n",
    "                    ax.set_ylabel('Latency (ms)')\n",
    "            elif '2nd' in mom_name:\n",
    "                pop_mom_sim_lat = sims_2nd_mom_lat[sim_name][pop_name]\n",
    "                if '2/3' in pop_name:\n",
    "                    ax.set_ylabel('Latency (ms)')\n",
    "            elif '3rd' in mom_name:\n",
    "                pop_mom_sim_lat = sims_3rd_mom_lat[sim_name][pop_name]\n",
    "                if '2/3' in pop_name:\n",
    "                    ax.set_ylabel('Skewness')\n",
    "            elif '4th' in mom_name:\n",
    "                pop_mom_sim_lat = sims_4th_mom_lat[sim_name][pop_name]\n",
    "                if '2/3' in pop_name:\n",
    "                    ax.set_ylabel('Kurtosis')\n",
    "                \n",
    "            if imom == 0 and iplot == 0:\n",
    "                label = sims_labels[sim_name]\n",
    "            else:\n",
    "                label = None\n",
    "                \n",
    "            ax.plot(1, pop_mom_sim_lat, 'd', markersize = 10, label = label, \\\n",
    "                    color = sims_colors[sim_name], alpha = 0.5, markeredgewidth = 2)\n",
    "            \n",
    "    if imom == 0:\n",
    "        fig.legend(bbox_to_anchor = (1.0, 0.6))\n",
    "                \n",
    "    fig.subplots_adjust(wspace = 0.4, left = 0.07, right = 0.79, bottom = 0.05, top = 0.83)\n",
    "                \n",
    "    fig.suptitle(mom_name, y = 0.99, x = 0.42)\n",
    "    \n",
    "    ax.set_xticks([])\n",
    "    \n",
    "    fig_name = 'peak_lat_dist_'+mom_name[:3]+'_mom_'+sim_name+'.png'\n",
    "    \n",
    "    savepath = os.path.join(fig_dir, fig_name)\n",
    "    \n",
    "    #fig.savefig(savepath, facecolor='w')"
   ]
  },
  {
   "cell_type": "code",
   "execution_count": 26,
   "metadata": {},
   "outputs": [
    {
     "data": {
      "text/plain": [
       "'Figures/Supplementary_figures/temporal_dynamics'"
      ]
     },
     "execution_count": 26,
     "metadata": {},
     "output_type": "execute_result"
    }
   ],
   "source": [
    "fig_dir"
   ]
  },
  {
   "cell_type": "markdown",
   "metadata": {},
   "source": [
    "### Relative change in peak firing rates across populations in V1"
   ]
  },
  {
   "cell_type": "markdown",
   "metadata": {},
   "source": [
    "#### For experiments"
   ]
  },
  {
   "cell_type": "code",
   "execution_count": 27,
   "metadata": {},
   "outputs": [],
   "source": [
    "tstim_onset = 1000\n",
    "\n",
    "sessions_1st_mom_RS_FS = dict()\n",
    "sessions_2nd_mom_RS_FS = dict()\n",
    "sessions_3rd_mom_RS_FS = dict()\n",
    "sessions_4th_mom_RS_FS = dict()\n",
    "\n",
    "for session_id, units_depth in sessions_units_depth.items():\n",
    "    session_id = int(session_id)\n",
    "    fst_mom_pops = dict()\n",
    "    snd_mom_pops = dict()\n",
    "    trd_mom_pops = dict()\n",
    "    frt_mom_pops = dict()\n",
    "    if session_id in sessions_spike_trains_V1.keys():\n",
    "        for unit_type in sessions_spike_trains_V1[session_id].keys():\n",
    "            #print(session_id, unit_type, sessions_spike_trains_V1[session_id][unit_type].shape[2])\n",
    "            if sessions_spike_trains_V1[session_id][unit_type].shape[2] < 10:\n",
    "                continue\n",
    "            fir_rate_cells = np.mean(sessions_spike_trains_V1[session_id][unit_type][:,tstim_onset:tstim_onset+100], axis = 0)\n",
    "            \n",
    "            peak_fir_rate = fir_rate_cells.max(axis = 0).values\n",
    "            \n",
    "            fst_mom_pops[unit_type] = np.mean(peak_fir_rate)\n",
    "            snd_mom_pops[unit_type] = np.var(peak_fir_rate)\n",
    "            trd_mom_pops[unit_type] = skew(peak_fir_rate)\n",
    "            frt_mom_pops[unit_type] = kurtosis(peak_fir_rate)\n",
    "            \n",
    "        sessions_1st_mom_RS_FS[session_id] = fst_mom_pops\n",
    "        sessions_2nd_mom_RS_FS[session_id] = snd_mom_pops\n",
    "        sessions_3rd_mom_RS_FS[session_id] = trd_mom_pops\n",
    "        sessions_4th_mom_RS_FS[session_id] = frt_mom_pops\n",
    "        "
   ]
  },
  {
   "cell_type": "markdown",
   "metadata": {},
   "source": [
    "#### For simulations"
   ]
  },
  {
   "cell_type": "code",
   "execution_count": 28,
   "metadata": {},
   "outputs": [],
   "source": [
    "sims_1st_mom_RS_FS = dict()        \n",
    "for sim_name in sims_spike_trains_RS_FS.keys():\n",
    "    fst_mom_pops = dict()\n",
    "    for unit_type in sims_spike_trains_RS_FS[sim_name].keys():\n",
    "        fir_rates_sim = np.mean(sims_spike_trains_RS_FS[sim_name][unit_type][:,:,tstim_onset_sim:tstim_onset_sim+100]\\\n",
    "                                 , axis = 1)\n",
    "\n",
    "        peak_fir_rate_sim = np.max(fir_rates_sim, axis = 1)\n",
    "        \n",
    "        fst_mom_pops[unit_type] = np.mean(peak_fir_rate_sim)\n",
    "        \n",
    "    sims_1st_mom_RS_FS[sim_name] = fst_mom_pops\n",
    "        "
   ]
  },
  {
   "cell_type": "code",
   "execution_count": 29,
   "metadata": {},
   "outputs": [
    {
     "data": {
      "text/plain": [
       "dict_keys(['final_model', 'intermediate_model', 'old_model'])"
      ]
     },
     "execution_count": 29,
     "metadata": {},
     "output_type": "execute_result"
    }
   ],
   "source": [
    "sims_spike_trains_RS_FS.keys()"
   ]
  },
  {
   "cell_type": "markdown",
   "metadata": {},
   "source": [
    "### Calculate relative change across populations for first moment"
   ]
  },
  {
   "cell_type": "code",
   "execution_count": 30,
   "metadata": {},
   "outputs": [
    {
     "name": "stdout",
     "output_type": "stream",
     "text": [
      "RS L4 RS L5 57.00384644132416\n",
      "RS L4 RS L6 -37.72468385957364\n",
      "RS L4 FS 135.8372300434991\n",
      "RS L5 RS L6 -60.3351653147555\n",
      "RS L5 FS 50.2111160898448\n",
      "RS L6 FS 278.7009760202631\n",
      "RS L4 FS 88.49796294366136\n",
      "RS L2/3 RS L4 nan\n",
      "RS L2/3 FS nan\n",
      "RS L4 FS nan\n",
      "RS L4 FS 52.204691853676565\n",
      "RS L4 RS L5 -4.392136097333791\n",
      "RS L4 FS 35.07153610344198\n",
      "RS L5 FS 41.27659649519191\n",
      "RS L5 RS L6 -65.74180103031593\n",
      "RS L5 FS 2.2762139067789953\n",
      "RS L6 FS 198.54521540167883\n",
      "RS L2/3 RS L4 120.25857152620559\n",
      "RS L2/3 RS L5 259.0174056531425\n",
      "RS L2/3 RS L6 307.0527530669826\n",
      "RS L2/3 FS 663.3431559339946\n",
      "RS L4 RS L5 62.998154017551066\n",
      "RS L4 RS L6 84.80677062710944\n",
      "RS L4 FS 246.56683308380337\n",
      "RS L5 RS L6 13.37967091775168\n",
      "RS L5 FS 112.6200969407827\n",
      "RS L6 FS 87.52929446675004\n",
      "RS L4 RS L5 62.09447240482893\n",
      "RS L4 RS L6 -33.09727900704197\n",
      "RS L4 FS 209.1786016081097\n",
      "RS L5 RS L6 -58.7260934932628\n",
      "RS L5 FS 90.73975627986867\n",
      "RS L6 FS 362.13158003043384\n",
      "RS L4 RS L5 54.17134218390527\n",
      "RS L4 RS L6 37.21720693592841\n",
      "RS L4 FS 426.1333946751833\n",
      "RS L5 RS L6 -10.996943405832777\n",
      "RS L5 FS 241.26536567838804\n",
      "RS L6 FS 283.43106263695745\n",
      "RS L4 RS L5 189.51085948175995\n",
      "RS L4 FS 220.91722000843248\n",
      "RS L5 FS 10.848076850343926\n",
      "RS L4 RS L5 120.13482054272733\n",
      "RS L4 FS 784.4102991864277\n",
      "RS L5 FS 301.7584755587392\n",
      "RS L2/3 RS L4 63.09835265690471\n",
      "RS L2/3 RS L5 259.1004616604844\n",
      "RS L2/3 FS 296.2470005098363\n",
      "RS L4 RS L5 120.17418067728232\n",
      "RS L4 FS 142.9497257666271\n",
      "RS L5 FS 10.344330574677043\n",
      "RS L4 RS L5 287.6956477869843\n",
      "RS L4 FS 324.09751080768376\n",
      "RS L5 FS 9.389288538183473\n",
      "RS L4 RS L5 -2.4222608466175144\n",
      "RS L4 FS 23.121525604880055\n",
      "RS L5 FS 26.17788306341601\n",
      "RS L2/3 RS L4 99.65817166653143\n",
      "RS L2/3 RS L5 346.69019855655637\n",
      "RS L2/3 FS 370.5032548992023\n",
      "RS L4 RS L5 123.72748123859274\n",
      "RS L4 FS 135.65439419381025\n",
      "RS L5 FS 5.33100041585777\n",
      "RS L5 RS L6 -31.100857895127564\n",
      "RS L5 RS L6 -5.677440407775024\n",
      "RS L5 FS 89.2439336891607\n",
      "RS L6 FS 100.63485820073113\n",
      "RS L4 RS L5 125.35107529485458\n",
      "RS L4 RS L6 48.57019138507611\n",
      "RS L4 FS 426.844433941773\n",
      "RS L5 RS L6 -34.071674079795976\n",
      "RS L5 FS 133.78829377780315\n",
      "RS L6 FS 254.6097834499354\n",
      "RS L4 RS L5 18.336889980162287\n",
      "RS L4 FS 153.21770203717915\n",
      "RS L5 FS 113.98035902382422\n",
      "RS L2/3 RS L4 114.13639769108035\n",
      "RS L2/3 RS L5 589.2032492658946\n",
      "RS L2/3 RS L6 128.97658669427616\n",
      "RS L2/3 FS 1362.7262979743741\n",
      "RS L4 RS L5 221.85245324812084\n",
      "RS L4 RS L6 6.930250608121612\n",
      "RS L4 FS 583.0815843295111\n",
      "RS L5 RS L6 -66.77662403098495\n",
      "RS L5 FS 112.23438797370706\n",
      "RS L6 FS 538.8104212276384\n",
      "RS L2/3 RS L4 71.48152156852223\n",
      "RS L2/3 RS L5 -12.328647958352796\n",
      "RS L2/3 FS 529.2079262343831\n",
      "RS L4 RS L5 -48.874169508337\n",
      "RS L4 FS 266.92462282763114\n",
      "RS L5 FS 617.6893153598061\n",
      "RS L2/3 RS L4 -34.046711893976074\n",
      "RS L2/3 RS L5 36.90942661462698\n",
      "RS L2/3 RS L6 32.68656288696365\n",
      "RS L2/3 FS 234.69424859792576\n",
      "RS L4 RS L5 107.58544501153109\n",
      "RS L4 RS L6 101.18263500928401\n",
      "RS L4 FS 407.4716639750915\n",
      "RS L5 RS L6 -3.0844214544480235\n",
      "RS L5 FS 144.4639911757311\n",
      "RS L6 FS 152.24426747948354\n",
      "RS L4 RS L5 345.8627445838357\n",
      "RS L4 FS 476.23013134133953\n",
      "RS L5 FS 29.239354115398797\n",
      "RS L4 RS L5 66.23248472657332\n",
      "RS L4 FS 209.2640862171785\n",
      "RS L5 FS 86.04311108377523\n",
      "RS L2/3 RS L4 2.9472796316563263\n",
      "RS L2/3 RS L5 135.85617848536958\n",
      "RS L2/3 FS 186.4826331772339\n",
      "RS L4 RS L5 129.10384745401637\n",
      "RS L4 FS 178.28091640912135\n",
      "RS L5 FS 21.464968616459107\n",
      "RS L2/3 RS L4 -22.713342063651744\n",
      "RS L2/3 RS L5 81.39436997298117\n",
      "RS L2/3 FS 280.10502028206383\n",
      "RS L4 RS L5 134.7033431337838\n",
      "RS L4 FS 391.8119510292588\n",
      "RS L5 FS 109.54620605847953\n",
      "RS L2/3 RS L4 -2.9676299011276384\n",
      "RS L2/3 RS L5 274.8218258177592\n",
      "RS L2/3 RS L6 178.37820261724\n",
      "RS L2/3 FS 643.8029123634252\n",
      "RS L4 RS L5 286.2853452263711\n",
      "RS L4 RS L6 186.89209831068027\n",
      "RS L4 FS 666.5513184986803\n",
      "RS L5 RS L6 -25.730524894089463\n",
      "RS L5 FS 98.4417291444141\n",
      "RS L6 FS 167.19150614896648\n",
      "RS L2/3 RS L5 909.516064266958\n",
      "RS L2/3 RS L6 713.3605688851721\n",
      "RS L2/3 FS 1126.287892256427\n",
      "RS L5 RS L6 -19.43064625962348\n",
      "RS L5 FS 21.472845818146936\n",
      "RS L6 FS 50.768052837529524\n",
      "RS L2/3 RS L4 -1.2437526910783727\n",
      "RS L2/3 RS L5 148.05239184412542\n",
      "RS L2/3 FS 834.6137280962907\n",
      "RS L4 RS L5 151.1764051424384\n",
      "RS L4 FS 846.3844096593754\n",
      "RS L5 FS 276.7807764916035\n",
      "RS L4 RS L5 -21.0452235292576\n",
      "RS L4 FS 75.20611109855831\n",
      "RS L5 FS 121.90691802348772\n",
      "RS L2/3 RS L4 -59.7415419717401\n",
      "RS L2/3 RS L5 14.068399477195207\n",
      "RS L2/3 RS L6 -42.851780512126105\n",
      "RS L2/3 FS 111.85063391782448\n",
      "RS L4 RS L5 183.34020989359186\n",
      "RS L4 RS L6 41.953324312019156\n",
      "RS L4 FS 426.2263988578831\n",
      "RS L5 RS L6 -49.90004265002501\n",
      "RS L5 FS 85.72245677925734\n",
      "RS L6 FS 270.7038221248107\n",
      "RS L2/3 RS L4 182.93629109499568\n",
      "RS L2/3 RS L5 156.06491794150108\n",
      "RS L2/3 RS L6 252.07022885689221\n",
      "RS L2/3 FS 426.04330156775995\n",
      "RS L4 RS L5 -9.497322895376662\n",
      "RS L4 RS L6 24.43445395228033\n",
      "RS L4 FS 85.92288021162379\n",
      "RS L5 RS L6 37.492566997140884\n",
      "RS L5 FS 105.43356965749457\n",
      "RS L6 FS 49.41430954719647\n",
      "RS L2/3 RS L4 206.2448329072965\n",
      "RS L2/3 RS L5 348.53142456479895\n",
      "RS L2/3 FS 1060.5852605142245\n",
      "RS L4 RS L5 46.46171179664411\n",
      "RS L4 FS 278.97300976357883\n",
      "RS L5 FS 158.75227396615907\n",
      "RS L2/3 RS L5 157.58062687552084\n",
      "RS L2/3 RS L6 -17.049381584546836\n",
      "RS L2/3 FS 576.138641339798\n",
      "RS L5 RS L6 -67.79625105286348\n",
      "RS L5 FS 162.4959219726376\n",
      "RS L6 FS 715.1098258886973\n",
      "RS L2/3 RS L4 -14.100917158945183\n",
      "RS L2/3 RS L5 27.82097956114174\n",
      "RS L2/3 FS 304.53739413015506\n",
      "RS L4 RS L5 48.80366045078502\n",
      "RS L4 FS 370.94495162270755\n",
      "RS L5 FS 216.48747765749138\n",
      "RS L2/3 RS L4 138.67081117102452\n",
      "RS L2/3 RS L5 284.07471409528284\n",
      "RS L2/3 RS L6 10.139686436967596\n",
      "RS L2/3 FS 750.8859774977656\n",
      "RS L4 RS L5 60.92236508136142\n",
      "RS L4 RS L6 -53.85288804417533\n",
      "RS L4 FS 256.51028013142565\n",
      "RS L5 RS L6 -71.32336954375921\n",
      "RS L5 FS 121.54178504098925\n",
      "RS L6 FS 672.5516614619413\n",
      "RS L2/3 RS L4 -15.960340140523646\n",
      "RS L2/3 RS L5 149.30135663977873\n",
      "RS L4 RS L5 196.64726993973832\n",
      "RS L2/3 RS L4 -13.004400658656317\n",
      "RS L2/3 RS L5 50.06766754772097\n",
      "RS L4 RS L5 72.50029735286047\n",
      "RS L2/3 RS L4 -11.897745555638565\n",
      "RS L2/3 RS L5 -40.557972193733235\n",
      "RS L2/3 RS L6 -47.79621848236567\n",
      "RS L4 RS L5 -32.53063933363278\n",
      "RS L4 RS L6 -40.74637267017702\n",
      "RS L5 RS L6 -12.176984123461091\n",
      "RS L2/3 RS L4 372.36236281192083\n",
      "RS L2/3 RS L5 421.24284477480273\n",
      "RS L2/3 RS L6 707.1696721611681\n",
      "RS L2/3 FS 1093.3998804822534\n",
      "RS L4 RS L5 10.348089901130516\n",
      "RS L4 RS L6 70.8793366508238\n",
      "RS L4 FS 152.6449976619805\n",
      "RS L5 RS L6 54.85482059900445\n",
      "RS L5 FS 128.95276020486168\n",
      "RS L6 FS 47.849940556731745\n",
      "RS L2/3 RS L5 70.03057399644884\n",
      "RS L2/3 FS 97.95028489874895\n",
      "RS L5 FS 16.420406192878712\n",
      "RS L4 FS -4.874981196896533\n",
      "RS L5 FS -3.0222542970609085\n"
     ]
    },
    {
     "name": "stderr",
     "output_type": "stream",
     "text": [
      "/Users/atleeskelandrimehaug/opt/anaconda3/envs/gen_env/lib/python3.7/site-packages/ipykernel_launcher.py:15: RuntimeWarning: invalid value encountered in double_scalars\n",
      "  from ipykernel import kernelapp as app\n"
     ]
    }
   ],
   "source": [
    "sessions_pops_rel_change = dict()\n",
    "for session_id in sessions_1st_mom.keys():\n",
    "    if len(sessions_1st_mom[session_id].keys()) < 2:\n",
    "        continue\n",
    "    pops_rel_change = dict()\n",
    "    for ipop1 in range(len(sessions_1st_mom[session_id].keys())):\n",
    "        for ipop2 in range(ipop1+1, len(sessions_1st_mom[session_id].keys())):\n",
    "            #print(ipop1, ipop2)\n",
    "            pop_name1 = list(sessions_1st_mom[session_id].keys())[ipop1]\n",
    "            pop_name2 = list(sessions_1st_mom[session_id].keys())[ipop2]\n",
    "            \n",
    "            mag_pop1 = sessions_1st_mom[session_id][pop_name1]\n",
    "            mag_pop2 = sessions_1st_mom[session_id][pop_name2]\n",
    "            \n",
    "            rel_change = ((mag_pop2-mag_pop1)/mag_pop1)*100\n",
    "            \n",
    "            print(pop_name1, pop_name2, rel_change)\n",
    "            #print(session_id, pop_name1, np.round(mag_pop1, 1), \\\n",
    "            #    pop_name2, np.round(mag_pop2, 1), np.round(rel_change, 1))\n",
    "            \n",
    "            if np.isnan(rel_change) or 'FS' in pop_name2:\n",
    "                continue\n",
    "            \n",
    "            pops_rel_change[pop_name1+'_'+pop_name2] = rel_change\n",
    "        \n",
    "    if len(pops_rel_change.keys()) == 0:\n",
    "        continue\n",
    "    sessions_pops_rel_change[session_id] = pops_rel_change\n",
    "    \n",
    "sims_pops_rel_change = dict()\n",
    "\n",
    "for sim_name in sims_1st_mom.keys():\n",
    "    pops_rel_change = dict()\n",
    "    for ipop1 in range(len(sims_1st_mom[sim_name].keys())):\n",
    "        for ipop2 in range(ipop1+1, len(sims_1st_mom[sim_name].keys())):\n",
    "            \n",
    "            pop_name1 = list(sims_1st_mom[sim_name].keys())[ipop1]\n",
    "            pop_name2 = list(sims_1st_mom[sim_name].keys())[ipop2]\n",
    "            \n",
    "            mag_pop1 = sims_1st_mom[sim_name][pop_name1]\n",
    "            mag_pop2 = sims_1st_mom[sim_name][pop_name2]\n",
    "            \n",
    "            rel_change = ((mag_pop2-mag_pop1)/mag_pop1)*100\n",
    "            \n",
    "            if np.isnan(rel_change) or 'FS' in pop_name2:\n",
    "                continue\n",
    "                \n",
    "            pops_rel_change[pop_name1+'_'+pop_name2] = rel_change\n",
    "            \n",
    "    sims_pops_rel_change[sim_name] = pops_rel_change"
   ]
  },
  {
   "cell_type": "markdown",
   "metadata": {},
   "source": [
    "#### Rearrange data for boxplot"
   ]
  },
  {
   "cell_type": "code",
   "execution_count": 31,
   "metadata": {},
   "outputs": [],
   "source": [
    "pops_rel_change = dict()\n",
    "\n",
    "for session_id in sessions_pops_rel_change.keys():\n",
    "    for pop_names in sessions_pops_rel_change[session_id].keys():\n",
    "        rel_change = sessions_pops_rel_change[session_id][pop_names]\n",
    "        \n",
    "        if pop_names not in pops_rel_change.keys():\n",
    "            pops_rel_change[pop_names] = []\n",
    "        pops_rel_change[pop_names].append(rel_change)"
   ]
  },
  {
   "cell_type": "markdown",
   "metadata": {},
   "source": [
    "#### Plot relative change in peak firing rates between populations"
   ]
  },
  {
   "cell_type": "code",
   "execution_count": 32,
   "metadata": {},
   "outputs": [
    {
     "data": {
      "text/plain": [
       "'RS L5'"
      ]
     },
     "execution_count": 32,
     "metadata": {},
     "output_type": "execute_result"
    }
   ],
   "source": [
    "\n",
    "pop_names.split('_')[1]"
   ]
  },
  {
   "cell_type": "code",
   "execution_count": 34,
   "metadata": {},
   "outputs": [
    {
     "data": {
      "image/png": "[encoded data removed]",
      "text/plain": [
       "<Figure size 288x288 with 1 Axes>"
      ]
     },
     "metadata": {
      "needs_background": "light"
     },
     "output_type": "display_data"
    },
    {
     "data": {
      "image/png": "[encoded data removed]",
      "text/plain": [
       "<Figure size 288x288 with 1 Axes>"
      ]
     },
     "metadata": {
      "needs_background": "light"
     },
     "output_type": "display_data"
    },
    {
     "data": {
      "image/png": "[encoded data removed]",
      "text/plain": [
       "<Figure size 288x288 with 1 Axes>"
      ]
     },
     "metadata": {
      "needs_background": "light"
     },
     "output_type": "display_data"
    },
    {
     "data": {
      "image/png": "[encoded data removed]",
      "text/plain": [
       "<Figure size 288x288 with 1 Axes>"
      ]
     },
     "metadata": {
      "needs_background": "light"
     },
     "output_type": "display_data"
    },
    {
     "data": {
      "image/png": "[encoded data removed]",
      "text/plain": [
       "<Figure size 288x288 with 1 Axes>"
      ]
     },
     "metadata": {
      "needs_background": "light"
     },
     "output_type": "display_data"
    },
    {
     "data": {
      "image/png": "[encoded data removed]",
      "text/plain": [
       "<Figure size 288x288 with 1 Axes>"
      ]
     },
     "metadata": {
      "needs_background": "light"
     },
     "output_type": "display_data"
    }
   ],
   "source": [
    "for pop_names in pops_rel_change.keys():\n",
    "    pops_rel_change_plot = pops_rel_change[pop_names]\n",
    "    \n",
    "    fig, ax = plt.subplots(figsize = (4,4))\n",
    "    ax.boxplot(pops_rel_change_plot)\n",
    "    ax.set_title(pop_names.split('_')[0]+' to '+ pop_names.split('_')[1])\n",
    "    \n",
    "    for sim_name in list(sims_pops_rel_change.keys())[::-1]:\n",
    "        sim_pops_rel_change = sims_pops_rel_change[sim_name][pop_names]\n",
    "        \n",
    "        ax.plot(1, sim_pops_rel_change, 'd', markersize = 10, color = sims_colors[sim_name], label = sims_labels[sim_name])\n",
    "\n",
    "    if '2/3' in pop_names.split('_')[0] and '4' in pop_names.split('_')[1]:\n",
    "        ax.set_ylabel('% Change in peak \\nfiring rate')\n",
    "    ax.set_xticks([])\n",
    "    #fig.legend(bbox_to_anchor = (1.2,0.5))\n",
    "    \n",
    "    fig.subplots_adjust(left = 0.32, right = 0.9, bottom = 0.1, top = 0.85)\n",
    "    \n",
    "    if '2/3' not in pop_names:\n",
    "        fig_name = pop_names.split('_')[0]+' to '+ pop_names.split('_')[1]+'_rel_change_fir_rate_dist_'+sim_name+'.png'\n",
    "    else:\n",
    "        fig_name = 'RS_L23_to_'+ pop_names.split('_')[1]+'_rel_change_fir_rate_dist_'+sim_name+'.png'\n",
    "    savepath = os.path.join(fig_dir, fig_name)\n",
    "    \n",
    "    #fig.savefig(savepath, facecolor='w')"
   ]
  },
  {
   "cell_type": "markdown",
   "metadata": {},
   "source": [
    "#### Relative change between all RS cells and FS cells"
   ]
  },
  {
   "cell_type": "code",
   "execution_count": 35,
   "metadata": {},
   "outputs": [],
   "source": [
    "sessions_rel_change_RS_FS = dict()\n",
    "\n",
    "for session_id in sessions_1st_mom_RS_FS.keys():\n",
    "    if len(sessions_1st_mom_RS_FS[session_id].keys()) < 2:\n",
    "        continue\n",
    "    \n",
    "    RS_1st_mom = sessions_1st_mom_RS_FS[session_id]['exc']\n",
    "    FS_1st_mom = sessions_1st_mom_RS_FS[session_id]['inh']\n",
    "    \n",
    "    if FS_1st_mom == 0:\n",
    "        continue\n",
    "        \n",
    "    rel_change = (FS_1st_mom-RS_1st_mom)/RS_1st_mom*100\n",
    "    \n",
    "    if np.isnan(rel_change):\n",
    "        continue\n",
    "    \n",
    "    sessions_rel_change_RS_FS[session_id] = rel_change\n",
    "    \n",
    "sims_rel_change_RS_FS = dict()\n",
    "for sim_name in sims_1st_mom_RS_FS.keys():\n",
    "    RS_1st_mom_sim = sims_1st_mom_RS_FS[sim_name]['RS']\n",
    "    FS_1st_mom_sim = sims_1st_mom_RS_FS[sim_name]['FS']\n",
    "    \n",
    "    rel_change = (FS_1st_mom_sim-RS_1st_mom_sim)/RS_1st_mom_sim*100\n",
    "            \n",
    "    sims_rel_change_RS_FS[sim_name] = rel_change"
   ]
  },
  {
   "cell_type": "code",
   "execution_count": 38,
   "metadata": {},
   "outputs": [
    {
     "data": {
      "image/png": "[encoded data removed]",
      "text/plain": [
       "<Figure size 432x252 with 1 Axes>"
      ]
     },
     "metadata": {
      "needs_background": "light"
     },
     "output_type": "display_data"
    }
   ],
   "source": [
    "fig, ax = plt.subplots(figsize = (6,3.5))\n",
    "\n",
    "ax.boxplot(np.array(list(sessions_rel_change_RS_FS.values())))\n",
    "\n",
    "for sim_name in list(sims_rel_change_RS_FS.keys())[::-1]:\n",
    "    rel_change = sims_rel_change_RS_FS[sim_name]\n",
    "    ax.plot(1, rel_change, 'd', markersize = 10, color = sims_colors[sim_name], label = sims_labels[sim_name])\n",
    "    \n",
    "    ax.set_title('RS to FS')\n",
    "    \n",
    "    #ax.set_ylabel('% Change in peak \\nfiring rate')\n",
    "ax.set_xticks([])\n",
    "\n",
    "fig.legend(bbox_to_anchor = (0.98, 0.7))\n",
    "    \n",
    "fig.subplots_adjust(left = 0.15, right = 0.5, bottom = 0.07, top = 0.84)\n",
    "\n",
    "fig_name = 'RS_to_FS_rel_change_fir_rate_dist_'+sim_name+'.png'\n",
    "savepath = os.path.join(fig_dir, fig_name)\n",
    "\n",
    "#fig.savefig(savepath, facecolor='w')"
   ]
  },
  {
   "cell_type": "markdown",
   "metadata": {},
   "source": [
    "### Curvature of firing rate"
   ]
  },
  {
   "cell_type": "code",
   "execution_count": 40,
   "metadata": {},
   "outputs": [
    {
     "name": "stdout",
     "output_type": "stream",
     "text": [
      "715093703 RS L4 [57 40 45 36 97 67 96]\n",
      "715093703 RS L5 [60 75 96 39 73 40 40 18 65 49 71 27 97 23 75 59 76]\n",
      "715093703 RS L6 [63 43 27 80 33  4 15 37 62 39 74 51 78]\n",
      "715093703 FS [61 63 62 79 78 41 38 60  3 45 10 29 57 17 45]\n",
      "719161530 RS L4 [55 39 53 61 77 65 72 52 93 38 74 26 29 19 97 72]\n",
      "719161530 FS [80 60 58 95 54 64 39 10  4 21 97 52 53]\n",
      "721123822 RS L5 [96 90 89 53 76 35 89 59 77 91 69 92 36 64 34 57 66]\n",
      "743475441 RS L2/3 []\n",
      "743475441 RS L4 []\n",
      "743475441 FS []\n",
      "744228101 RS L4 [54 92 14  4 56 63 55 37 24 92 68]\n",
      "744228101 FS [49 10 34 34 67 80 86 43 35  9 26 32 35 39]\n",
      "750749662 RS L4 [96 60 59 18 48 21 49 37 36 41  4 20 32 15 26 36]\n",
      "750749662 RS L5 [96 46 49 20 40 52 37 55 66 89 53]\n",
      "750749662 FS [24  6 58 51 46 54 45  7 39 36 66 34 46 66 41 45 32]\n",
      "751348571 RS L5 [86 45 27 96 94 13 42 69 97 51]\n",
      "751348571 RS L6 [14 78 11 23 44 48 48 42 93 67 61 96 94]\n",
      "751348571 FS [60 54 96 52 65 68 69  3 50 14]\n",
      "754312389 RS L2/3 [14 50 37 24 16 25 12 14 21 32 12 47  7  6 16 86]\n",
      "754312389 RS L4 [43 20 34 33 37 10 76 20 32 71 37 39 29  4]\n",
      "754312389 RS L5 [71 42 20 33  4 65 17 60  1 90 12 26 34 46 12 23 30 59 50 84 10 23 42 47\n",
      " 44 10 86 66 55 12 47  4 51 81 38 36 12 86 78 10 62]\n",
      "754312389 RS L6 [91 19  9 73 84 39 18 56 14 21 95]\n",
      "754312389 FS [ 3 72 65 39 44 35 60 11 43 36 32]\n",
      "754829445 RS L4 [64 55 14 49 90 21 28 24 94 86 57 25  0 33 78]\n",
      "754829445 RS L5 [10 44 36 18 83 36 31 90 58 41 95 26  4 72 97 50 41 46 59 32 55 11 97 25\n",
      "  2 81 11 13 12 14]\n",
      "754829445 RS L6 [14 97 56 14 65 52 11 62  6  6]\n",
      "754829445 FS [49 48 95 59 48 79 52 61 54  6 54 39 40 61 39 58 59 13]\n",
      "755434585 RS L4 [85  9 51 83  1 31 88 10 11 34]\n",
      "755434585 RS L5 [83 61 15 72 69 75 12 47  4 75 56 35 58 47 36  1 40 18 45  4 93 74 37 26\n",
      " 38 37 42 74 75  6]\n",
      "755434585 RS L6 [ 6 96 78 31 10 29 65 59 76 59]\n",
      "755434585 FS [23  8 64 62 42 57 46 42 44 42 38 96 17]\n",
      "756029989 RS L4 [18 23 60 14 28 65 49 79 53]\n",
      "756029989 RS L5 [91 61  8 85 31 70 38 61 95 50 26]\n",
      "756029989 FS [53 64 92 82 70  7 50 83 56 47 38 52 13 70]\n",
      "757216464 RS L4 [ 4 63 84 92 88 35 33 15  1 84 60 16  6]\n",
      "757216464 RS L5 [72 33 25 30 37 20 35 19 25 71  6  7 40 90 55 35 45 38 97 39 97  1 84 11\n",
      " 87 59 38]\n",
      "757216464 FS [34 92 74 60 53 92 52 12 20 39 32 44 65 67 45 32 36 63 38 38 35 11]\n",
      "757970808 RS L2/3 [10  4  2 16 31  7 11 87 14 92 59]\n",
      "757970808 RS L4 [ 9 82 41  8 30 22 72 33 24  5]\n",
      "757970808 RS L5 [44 43 96 45 25 97 76 44 41 41 46 52 97 41 55 53 54 27  4 38 75 73 60]\n",
      "757970808 FS [64 63 83 53 62 92 73 59 80 54 50 14 33]\n",
      "758798717 RS L4 [34 25 14  3 11 16 27 83 73]\n",
      "758798717 RS L5 [57 42 59  7 97 11 67 95 61 27]\n",
      "758798717 FS [78 97 90 75 40 47 54 85 63 61 39 39]\n",
      "759883607 RS L4 [18 87 44 16  4 84 91 54 41]\n",
      "759883607 RS L5 [57 63 89 39 73 71 59 46 97 64  7  6 85  8 43 60]\n",
      "759883607 FS [44 63 20 52 50 52 64 22 65 39 41 55  1  9 22]\n",
      "760345702 RS L2/3 [82 54 71  7 32 70 36 35  4]\n",
      "760345702 RS L4 [75 32 40 21 20 82 24 82 36 35 95 73 22 18 29 16]\n",
      "760345702 RS L5 [48 61 95 77 79 44 54 47 41 63 74 25  6 57 75 46 74]\n",
      "760345702 FS [79 43 69 65 97 70 96 14 44 24 69 54 48 33 80 38 57  1]\n",
      "761418226 RS L5 [43  8 54 33 88 57 76 43 57 61 46 54 64 88 37 71]\n",
      "761418226 RS L6 [63 59 46 14 78 19 77 88 54 92]\n",
      "762602078 RS L5 [95 51 73 93 37 91 64 62 97 32 63 91 58 32 43 59  4 38 11 97 90 92 90]\n",
      "762602078 RS L6 [21 12 26 44 75 85 95 97 18 72 78 36 95 85 93]\n",
      "762602078 FS [83 95 55  8 56 35 62 62 54 84 47  2]\n",
      "763673393 RS L4 [70 43 85 87 13  1 82 76 24 17]\n",
      "763673393 RS L5 [55 88 16 26 34 13 39 32 83 57 12 59 71 29 19  1  5 32 29 40 10 65 45  5]\n",
      "763673393 RS L6 [94 16  3 23 39 42 15 45 35 52 62]\n",
      "763673393 FS [72 62 86 40 38 39 51 31 75 47 22 38 82 51 39 38 33 47]\n",
      "766640955 RS L4 [44 80 59 71 44 55 28 89 68 95 11 39 42]\n",
      "766640955 RS L5 [61 48 37 48 55 64 76 53 62 43  6 39 45]\n",
      "766640955 FS [36 53 41 87 81 53 54 44 40 36]\n",
      "767871931 RS L2/3 [ 2 35  7 54 10 32 96 12 31 47  5 88]\n",
      "767871931 RS L4 [28  5 79  4 39  3 23 11 24 42 24 71 24 25 20  4 43 41 13]\n",
      "767871931 RS L5 [62 41 51 65 42 13 40 30 93 62 68 68 20 53 18 93 55 50 63 97 45 54 11 79\n",
      " 57 64 33 19 54 77 96 74 95]\n",
      "767871931 RS L6 [20 97 35 35 96 32 66 59 25]\n",
      "767871931 FS [75 93 45 68 79 55 44 75 58 43 55 87 28 39 40 57 55 61  8 30 39]\n",
      "768515987 RS L2/3 [37 23 17 42 41 41 32 38  3 17 11 20 16]\n",
      "768515987 RS L4 [38 13 73 56 22 70 32 21 35 50 14 14  9 11 11 30 40 30 14  1  4]\n",
      "768515987 RS L5 [46 56 72 96 57 35 43 53  3 97 91]\n",
      "768515987 FS [76 55 45 41 55 64 69  1 56 69 40 20 67 40 42 37 40 41 42 35  2]\n",
      "771160300 RS L2/3 [39 38 18 35 24 75 39 53]\n",
      "771160300 RS L4 [16 22 26 87 83 17 32 54 46 14 60 15 19 64 50 55]\n",
      "771160300 RS L5 [40 54 44 22 20 41 74 96 80 68 82 73  9 91 20 13 64  2  1 34 77 32 36  3\n",
      " 34  2 17 63 89 82]\n",
      "771160300 RS L6 [34 77 37  6 55 97 26 78 58 86]\n",
      "771160300 FS [68 39 39 54 50 85 51 55 75 29 59 57 31 18]\n",
      "771990200 RS L4 [55 36 42  2 11 78 33 36 18]\n",
      "771990200 RS L5 [96 63 41 36 84 92 26 58 85 97 33 31 27 17 63 43  8 42 54]\n",
      "771990200 FS [55 56 87 97 32 32 92 12 35 39]\n",
      "773418906 RS L5 [39 12 19 15 44  7 36 13 91  2 36  6 18 24]\n",
      "774875821 RS L4 [30  8 43 34 15 63 55 55 59]\n",
      "774875821 RS L5 [11 91 76  2 55 67 29 15 62 57 41 10 13 58 13 54 13 15 25 61 34 58 88 90\n",
      " 58]\n",
      "774875821 FS [54 75 43 42 56 31 40 46 42 39 53 58  6 68 30 34  6]\n",
      "778240327 RS L2/3 [14 31 41 30 57 29 34 21 44 40 25 16]\n",
      "778240327 RS L4 [34 16 63 76 13 81 92 11 15 48 77 19 72 15 35 38 39  4]\n",
      "778240327 RS L5 [65 56 16 55 35 44 43 86 56 42 41 40 49 24 57 38 25 19 80 44  5 64 68 16\n",
      " 21 80 38 54  3  7]\n",
      "778240327 FS [67 44 51 60 13 96 43 53 96 43 57 38  2 46]\n",
      "778998620 RS L2/3 [54 50 54  7 35 52 47 52  5 36 35  2 13 80]\n",
      "778998620 RS L4 [ 6 39 15 58 24 38  6 24 25 77]\n",
      "778998620 RS L5 [40 85  1 38  6 58 31 41  4 40 27 11 92 22 52 36 90 52 62 63 43 27  5 95]\n",
      "778998620 FS [51 69 44 64 57 51 53 53 10 36 35 31 24]\n",
      "779839471 RS L2/3 [13 11 43 28 33  2 32 14 57 47  3  9 97 27 34 14 12  2 19 34 44 37 19 47]\n",
      "779839471 RS L4 [19 95 48 37 17 27 36  4 31 10 27 53  0 43 29  3  9 20 23 27 41 26 75 41\n",
      " 26 84]\n",
      "779839471 RS L5 [40 41 95 64 58 65 38 45 84 81 26 49 36 54 61 37 87 20 18  2 70 73 30 11\n",
      " 25 73 32 22 33  6  7 56 63 45 79]\n",
      "779839471 RS L6 [10 17 94 65 80 27 67 47 40 43 32]\n",
      "779839471 FS [ 9 85 54 44 79 48 63 34  3 33  7 41 63  6 54 35 67  2 39 36]\n",
      "781842082 RS L2/3 [35 18]\n",
      "781842082 RS L5 [42 77 78 68 21 80 82 19 69 97 21 61 97 89 77 19  2 65 13 62 11 52  6 37\n",
      " 36 65 15 34 31 76 37 32 33  9 40  5 19]\n",
      "781842082 RS L6 [86 65 44 41 87 58 17 51  3 18 31]\n",
      "781842082 FS [34 19 80 65 50 71 44 57 57 47 22 24]\n",
      "786091066 RS L2/3 [20 42 16 25  7 14  2  1 96 25  5  5  5 57 24 33 42 16 97 12]\n",
      "786091066 RS L4 [23 22 31 60 25 28  9  5  8  3 13 35 52]\n",
      "786091066 RS L5 [21 53 69 12 49 52 10 57 95 95 35 91 68 10 53 25 59 23 13 79 38 51 91 25\n",
      " 65 39]\n",
      "786091066 FS [82 56 51 89 34 56 40 40 16 35 59 37 50 53 51 38 55]\n",
      "787025148 RS L4 [35 49 33 66 76 31 58 35 59 72 35 10 74 42 30 83  1 40 36 45 44 13]\n",
      "787025148 RS L5 [22 31 60 97 80 73 47 76  5 24 95 15 24 20 42 17 97 25  6 89 45]\n",
      "787025148 FS [56 68 81 57 59 40 56 41 56 57 31]\n",
      "791319847 RS L2/3 [53 53 56 13 54 44 34 81 14]\n",
      "791319847 RS L4 [54 82 20 39 31 14 92 12 72 22 13  9  9 20 52 36]\n",
      "791319847 RS L5 [81  2 60 80 14 14 67 66 37 42  5 48 17  6 92  3  3 34 45 42 27 58 40 12\n",
      " 22 59 19  7  2]\n",
      "791319847 RS L6 [28 75  2 22 77  4 37 64 41 85 17]\n",
      "791319847 FS [12 63 52 77 59 66 68 43  2 20 33 38 37  9 39 40 97 30]\n",
      "793224716 RS L2/3 [39  2 38 23 24 31 90 42  6 35 37 12  2]\n",
      "793224716 RS L4 [79 27 92  8 54 24 97 17 19 40 40 81 39]\n",
      "793224716 RS L5 [ 4 78 97 61 94 79 24 68 39 16 58 61 66 39 95 49 62 90]\n",
      "793224716 RS L6 [61 72 45 37  1 42 58]\n",
      "793224716 FS [42 54 51 65 38 60 36 43 14 33  6 12]\n",
      "794812542 RS L2/3 [12 38 35 23 41 10  1 21 37 30 90 19 21 18 25 36 21  8 34 39 42 33 48 35\n",
      " 25 97  5 24 33]\n",
      "794812542 RS L4 [46 74 95 34 63 72 37 92 38 25 10 30 93 25 65 14 19 33]\n",
      "794812542 RS L5 [69 88 85 15 24 11 97 42 67 85 51 64 65 34 33 43 72 91 33 43 95 89 38 77\n",
      "  2 38]\n",
      "794812542 FS [38 21 57 69 57 93 94 56 72  9 36 76 88 38  9]\n",
      "797828357 RS L2/3 [39 14 70 30 20 41 96 19 71 75 65]\n",
      "797828357 RS L5 [82 62 94 55 18 80 78  1 61 49 60 64 67 94 71 50 66 96 34 59 94 54 43 68\n",
      " 23 18 15  5 88 87]\n",
      "797828357 RS L6 [50 97 16 16 93 15  1 23  3 42 68]\n",
      "797828357 FS [56 35 52 32 89 83 37 36 96 93 37 36 34 86 10  5 17 85 19]\n",
      "798911424 RS L2/3 [74 12 38 13 14 10 31 17 16 51]\n",
      "798911424 RS L4 [35 70 91 24 81 93  7  9  2 29 29 60 51 82 18 67  8 72 23 70 42]\n",
      "798911424 RS L5 [10 56 13 95 28 86 57 74 46 45 93  1 34 89  2 77 34 78 84 93 35  4 72 34\n",
      " 16  3 29]\n",
      "798911424 FS [18 62 37 82 42 74 55 65 51 36 66 39 73 36 35]\n"
     ]
    },
    {
     "name": "stdout",
     "output_type": "stream",
     "text": [
      "799864342 RS L2/3 [52 13 44 84  2 22 32 61 23  6 27 53]\n",
      "799864342 RS L4 [39 47 30 62 74 65 63 12  9 43 10  4 40  8 65 33]\n",
      "799864342 RS L5 [64  4 78 96 17 17 72 76 26 95 78 33 97 91 90  5 34 97]\n",
      "799864342 RS L6 [ 5 11 40 24 40 22 26 55 11]\n",
      "799864342 FS [54 21 87  3 87 90 42 36 83 51 49 12]\n",
      "816200189 RS L2/3 [12 50 11 34  5 26 12 35 32  6 56 17]\n",
      "816200189 RS L4 [82 29 31 71 22 23  4 17 77 18  5 84 77  4 10]\n",
      "816200189 RS L5 [ 2 38 38 18 61 55 84 39 20 93 58 95 97 90  8 28  4 70]\n",
      "829720705 RS L5 [91  2 42 54 45  5 66 48 39 48 17 24 45 21]\n",
      "831882777 RS L2/3 [80 23 32 72 43 55 69 61 56 93 94 94 59 56  2 82 97]\n",
      "831882777 RS L4 [ 7 16 60 79 70 28 25 78 33 19 66 40 31 37]\n",
      "831882777 RS L5 [65 77 86  7 44 92 67 16 87 96 25 31 65 44 64  6 68]\n",
      "835479236 RS L2/3 [34 97 45 92 70 79 29 40 37 88 53 90  4 77 28 93  5  7 41]\n",
      "835479236 RS L4 [56 38 74 81 31 55  7 91 61 55  7 39]\n",
      "835479236 RS L5 [34 72 59 19 27 58 51 33 26 24 10 65 68 82 35 43]\n",
      "835479236 RS L6 [88 82 26 55  6 81  2 77 49 69  8 22 97 75 33  3 20 91]\n",
      "839068429 RS L2/3 [10 31 50 36 41  1 21  4 14 31 12 14 40]\n",
      "839068429 RS L4 [ 9 61 58 97 56 10 60 35 17 45  4 17 25 40 50 36]\n",
      "839068429 RS L5 [40 57 23 38 51  9  2 10  4 21 85 57 28 83 57 37 92 83 24 28 90 62 23 15\n",
      " 25 51 14 13]\n",
      "839068429 RS L6 [47 59 66  8 73 45 28 41 47]\n",
      "839068429 FS [52 63 56 31 52 37  7 13 36 80 23 36 35 38 36 37  3]\n",
      "839557629 RS L2/3 [13 92 39 88 80 88  9 93 41 48 64 97]\n",
      "839557629 RS L5 [ 6 61 43 95 35  4 53 12 63 10 33 63 24 24  1 52 82 82]\n",
      "839557629 FS [70 57 12 62  4 94 49 42 65 89 46]\n",
      "840012044 RS L4 [95 76 97 48 78  5 91 75 57 60 30 51 16 85 56 97 97 39 37]\n",
      "840012044 FS [23 54 56 67 76 52 77 97 53 56 41 33 30 30]\n",
      "847657808 RS L5 [ 4 53 49 58 55 45 55 60 66  3 56 57 45 60 54 53 18  7]\n",
      "847657808 FS [62 75  9 23 40 60 52  6 54 37 51 51 78 35]\n"
     ]
    }
   ],
   "source": [
    "sessions_max_rate_change = dict()\n",
    "sessions_lat_max_rate_change = dict()\n",
    "\n",
    "sessions_max_curv = dict()\n",
    "sessions_lat_max_curv = dict()\n",
    "\n",
    "sessions_baseline_rate = dict()\n",
    "\n",
    "tstim_onset = 1000\n",
    "\n",
    "for session_id in sessions_spike_trains_layer_pops.keys():\n",
    "    pops_max_rate_change = dict()\n",
    "    pops_lat_max_rate_change = dict()\n",
    "    \n",
    "    pops_max_curv = dict()\n",
    "    pops_lat_max_curv = dict()\n",
    "    \n",
    "    pops_baseline_rate = dict()\n",
    "    for pop_name in sessions_spike_trains_layer_pops[session_id].keys():\n",
    "        if len(sessions_spike_trains_layer_pops[session_id][pop_name]) < 10:\n",
    "            continue\n",
    "        fir_rates = np.mean(sessions_spike_trains_layer_pops[session_id][pop_name][:,:,tstim_onset:tstim_onset+100],axis = 1)\n",
    "        fir_rates = gaussian_filter(fir_rates, sigma = (0,2))*1E3\n",
    "\n",
    "        d_fir_rates = np.diff(fir_rates, n = 1, axis = 1)\n",
    "        dd_fir_rates = np.diff(d_fir_rates, n = 1, axis = 1)\n",
    "        ddd_fir_rates = np.diff(dd_fir_rates, n = 1, axis = 1)\n",
    "        num = ddd_fir_rates\n",
    "        denom = (1+dd_fir_rates[:,:-1]**2)**(3/2)\n",
    "        curvature = num/denom\n",
    "        \n",
    "        pops_max_curv[pop_name] = np.max(curvature, axis = 1)\n",
    "        pops_lat_max_curv[pop_name] = np.argmax(curvature, axis = 1)[np.any(fir_rates, axis = 1)]\n",
    "\n",
    "        pops_max_rate_change[pop_name] = np.max(d_fir_rates, axis = 1)\n",
    "        pops_lat_max_rate_change[pop_name] = np.argmax(d_fir_rates, axis = 1)[np.any(fir_rates, axis = 1)]\n",
    "        \n",
    "        pops_baseline_rate[pop_name] = gaussian_filter1d(np.mean(np.mean(sessions_spike_trains_layer_pops[session_id][pop_name][:,:,:tstim_onset], \\\n",
    "                                        axis = 1), axis = -1)*1E3, sigma = 2)\n",
    "        \n",
    "        print(session_id, pop_name, np.argmax(d_fir_rates, axis = 1)[np.any(fir_rates, axis = 1)])\n",
    "\n",
    "    sessions_max_curv[session_id] = pops_max_rate_change\n",
    "    sessions_lat_max_curv[session_id] = pops_lat_max_rate_change\n",
    "    \n",
    "    sessions_max_rate_change[session_id] = pops_max_curv\n",
    "    sessions_lat_max_rate_change[session_id] = pops_lat_max_curv\n",
    "    \n",
    "    sessions_baseline_rate[session_id] = pops_baseline_rate"
   ]
  },
  {
   "cell_type": "code",
   "execution_count": null,
   "metadata": {},
   "outputs": [],
   "source": []
  },
  {
   "cell_type": "code",
   "execution_count": 41,
   "metadata": {},
   "outputs": [],
   "source": [
    "sims_max_rate_change = dict()\n",
    "sims_lat_max_rate_change = dict()\n",
    "\n",
    "sims_max_curv = dict()\n",
    "sims_lat_max_curv = dict()\n",
    "\n",
    "sims_baseline_rate = dict()\n",
    "\n",
    "for sim_name in sims_spike_trains_layer_pops.keys():\n",
    "    pops_max_rate_change = dict()\n",
    "    pops_lat_max_rate_change = dict()\n",
    "    \n",
    "    pops_max_curv = dict()\n",
    "    pops_lat_max_curv = dict()\n",
    "    for pop_name in sims_spike_trains_layer_pops[sim_name].keys():\n",
    "        fir_rates = np.mean(sims_spike_trains_layer_pops[sim_name][pop_name][:,:,tstim_onset_sim:tstim_onset_sim+100],\\\n",
    "                           axis = 1)\n",
    "        \n",
    "        fir_rates = gaussian_filter(fir_rates, sigma = (0,2))*1E3\n",
    "        \n",
    "        d_fir_rates = np.diff(fir_rates, n = 1, axis = 1)\n",
    "        dd_fir_rates = np.diff(d_fir_rates, n = 1, axis = 1)\n",
    "        ddd_fir_rates = np.diff(dd_fir_rates, n = 1, axis = 1)\n",
    "        num = ddd_fir_rates\n",
    "        denom = (1+dd_fir_rates[:,:-1]**2)**(3/2)\n",
    "        curvature = num/denom\n",
    "        \n",
    "        pops_max_curv[pop_name] = np.max(curvature, axis = 1)\n",
    "        pops_lat_max_curv[pop_name] = np.argmax(curvature, axis = 1)[np.any(fir_rates, axis = 1)]\n",
    "        \n",
    "        pops_max_rate_change[pop_name] = np.max(d_fir_rates, axis = 1)\n",
    "        pops_lat_max_rate_change[pop_name] = np.argmax(d_fir_rates, axis = 1)[np.any(fir_rates, axis = 1)]\n",
    "        \n",
    "        pops_baseline_rate[pop_name] = gaussian_filter1d(np.mean(np.mean(sessions_spike_trains_layer_pops[session_id][pop_name][:,:,:tstim_onset], \\\n",
    "                                        axis = 1), axis = -1)*1E3, sigma = 2)\n",
    "\n",
    "    sims_max_rate_change[sim_name] = pops_max_rate_change\n",
    "    sims_lat_max_rate_change[sim_name] = pops_lat_max_rate_change\n",
    "    \n",
    "    sims_max_curv[sim_name] = pops_max_curv\n",
    "    sims_lat_max_curv[sim_name] = pops_lat_max_curv\n",
    "    \n",
    "    sims_baseline_rate[sim_name] = pops_baseline_rate"
   ]
  },
  {
   "cell_type": "code",
   "execution_count": null,
   "metadata": {},
   "outputs": [],
   "source": []
  },
  {
   "cell_type": "code",
   "execution_count": 42,
   "metadata": {},
   "outputs": [],
   "source": [
    "pops_max_rate_change = dict()\n",
    "pops_lat_max_rate_change = dict()\n",
    "pops_max_curv = dict()\n",
    "pops_lat_max_curv = dict()\n",
    "pops_baseline_rate = dict()\n",
    "\n",
    "for session_id in sessions_max_rate_change.keys():\n",
    "    for pop_name in sessions_max_rate_change[session_id].keys():\n",
    "        if pop_name not in pops_max_rate_change.keys():\n",
    "            pops_max_rate_change[pop_name] = []\n",
    "        pops_max_rate_change[pop_name] = np.concatenate([pops_max_rate_change[pop_name], sessions_max_rate_change[session_id][pop_name]])\n",
    "        \n",
    "        if pop_name not in pops_lat_max_rate_change.keys():\n",
    "            pops_lat_max_rate_change[pop_name] = []\n",
    "        pops_lat_max_rate_change[pop_name] = np.concatenate([pops_lat_max_rate_change[pop_name], sessions_lat_max_rate_change[session_id][pop_name]])\n",
    "        \n",
    "        if pop_name not in pops_max_curv.keys():\n",
    "            pops_max_curv[pop_name] = []\n",
    "        pops_max_curv[pop_name] = np.concatenate([pops_max_curv[pop_name], sessions_max_curv[session_id][pop_name]])\n",
    "        \n",
    "        if pop_name not in pops_lat_max_curv.keys():\n",
    "            pops_lat_max_curv[pop_name] = []\n",
    "        pops_lat_max_curv[pop_name] = np.concatenate([pops_lat_max_curv[pop_name], sessions_lat_max_curv[session_id][pop_name]])\n",
    "        \n",
    "        if pop_name not in pops_baseline_rate.keys():\n",
    "            pops_baseline_rate[pop_name] = []\n",
    "        pops_baseline_rate[pop_name] = np.concatenate([pops_baseline_rate[pop_name], sessions_baseline_rate[session_id][pop_name]])"
   ]
  },
  {
   "cell_type": "code",
   "execution_count": 43,
   "metadata": {},
   "outputs": [],
   "source": [
    "pops_curv_moms = dict()\n",
    "\n",
    "for session_id in sessions_max_curv.keys():\n",
    "    for pop_name in sessions_max_curv[session_id].keys():\n",
    "        if pop_name+' 1st moment' not in pops_curv_moms.keys():\n",
    "            pops_curv_moms[pop_name+' 1st moment'] = []\n",
    "        pops_curv_moms[pop_name+' 1st moment'].append(np.mean(sessions_max_curv[session_id][pop_name]))\n",
    "        \n",
    "        if pop_name+' 2nd moment' not in pops_curv_moms.keys():\n",
    "            pops_curv_moms[pop_name+' 2nd moment'] = []\n",
    "        pops_curv_moms[pop_name+' 2nd moment'].append(np.std(sessions_max_curv[session_id][pop_name]))\n",
    "\n",
    "        if pop_name+' 3rd moment' not in pops_curv_moms.keys():\n",
    "            pops_curv_moms[pop_name+' 3rd moment'] = []\n",
    "        pops_curv_moms[pop_name+' 3rd moment'].append(skew(sessions_max_curv[session_id][pop_name]))\n",
    "\n",
    "        if pop_name+' 4th moment' not in pops_curv_moms.keys():\n",
    "            pops_curv_moms[pop_name+' 4th moment'] = []\n",
    "        pops_curv_moms[pop_name+' 4th moment'].append(kurtosis(sessions_max_curv[session_id][pop_name]))"
   ]
  },
  {
   "cell_type": "code",
   "execution_count": null,
   "metadata": {},
   "outputs": [],
   "source": []
  },
  {
   "cell_type": "code",
   "execution_count": 44,
   "metadata": {},
   "outputs": [],
   "source": [
    "sims_curv_moms = dict()\n",
    "\n",
    "for sim_name in sims_max_curv.keys():\n",
    "    for pop_name in sims_max_curv[sim_name].keys():\n",
    "        if sim_name+' '+pop_name+' 1st moment' not in sims_curv_moms.keys():\n",
    "            sims_curv_moms[sim_name+' '+pop_name+' 1st moment'] = []\n",
    "        sims_curv_moms[sim_name+' '+pop_name+' 1st moment'].append(np.mean(sims_max_curv[sim_name][pop_name]))\n",
    "        \n",
    "        if sim_name+' '+pop_name+' 2nd moment' not in sims_curv_moms.keys():\n",
    "            sims_curv_moms[sim_name+' '+pop_name+' 2nd moment'] = []\n",
    "        sims_curv_moms[sim_name+' '+pop_name+' 2nd moment'].append(np.std(sims_max_curv[sim_name][pop_name]))\n",
    "\n",
    "        if sim_name+' '+pop_name+' 3rd moment' not in sims_curv_moms.keys():\n",
    "            sims_curv_moms[sim_name+' '+pop_name+' 3rd moment'] = []\n",
    "        sims_curv_moms[sim_name+' '+pop_name+' 3rd moment'].append(skew(sims_max_curv[sim_name][pop_name]))\n",
    "\n",
    "        if sim_name+' '+pop_name+' 4th moment' not in sims_curv_moms.keys():\n",
    "            sims_curv_moms[sim_name+' '+pop_name+' 4th moment'] = []\n",
    "        sims_curv_moms[sim_name+' '+pop_name+' 4th moment'].append(kurtosis(sims_max_curv[sim_name][pop_name]))"
   ]
  },
  {
   "cell_type": "code",
   "execution_count": 47,
   "metadata": {
    "scrolled": false
   },
   "outputs": [
    {
     "name": "stderr",
     "output_type": "stream",
     "text": [
      "No handles with labels found to put in legend.\n",
      "No handles with labels found to put in legend.\n",
      "No handles with labels found to put in legend.\n",
      "No handles with labels found to put in legend.\n",
      "No handles with labels found to put in legend.\n",
      "No handles with labels found to put in legend.\n",
      "No handles with labels found to put in legend.\n",
      "No handles with labels found to put in legend.\n",
      "No handles with labels found to put in legend.\n"
     ]
    },
    {
     "name": "stdout",
     "output_type": "stream",
     "text": [
      "FS 1st moment 0 -1\n",
      "FS 2nd moment 1 -1\n",
      "FS 3rd moment 2 -1\n",
      "FS 4th moment 3 -1\n",
      "RS L2/3 1st moment 0 0\n",
      "RS L2/3 2nd moment 1 0\n",
      "RS L2/3 3rd moment 2 0\n",
      "RS L2/3 4th moment 3 0\n",
      "RS L4 1st moment 0 1\n",
      "RS L4 2nd moment 1 1\n",
      "RS L4 3rd moment 2 1\n",
      "RS L4 4th moment 3 1\n",
      "RS L5 1st moment 0 2\n",
      "RS L5 2nd moment 1 2\n",
      "RS L5 3rd moment 2 2\n",
      "RS L5 4th moment 3 2\n",
      "RS L6 1st moment 0 3\n",
      "RS L6 2nd moment 1 3\n",
      "RS L6 3rd moment 2 3\n",
      "RS L6 4th moment 3 3\n"
     ]
    },
    {
     "name": "stderr",
     "output_type": "stream",
     "text": [
      "No handles with labels found to put in legend.\n",
      "No handles with labels found to put in legend.\n",
      "No handles with labels found to put in legend.\n",
      "No handles with labels found to put in legend.\n",
      "No handles with labels found to put in legend.\n",
      "No handles with labels found to put in legend.\n"
     ]
    },
    {
     "data": {
      "image/png": "[encoded data removed]",
      "text/plain": [
       "<Figure size 1152x1152 with 20 Axes>"
      ]
     },
     "metadata": {
      "needs_background": "light"
     },
     "output_type": "display_data"
    }
   ],
   "source": [
    "fig, axes = plt.subplots(nrows = 4, ncols = 5, figsize = (16,16), sharey = False)\n",
    "\n",
    "for i, pop_names_moms in enumerate(sorted(list(pops_curv_moms.keys()))):\n",
    "    if 'FS' in pop_names_moms:\n",
    "        irow = int(pop_names_moms.split(' ')[1][0])-1\n",
    "        icol = -1\n",
    "    else:\n",
    "        irow = int(pop_names_moms.split(' ')[2][0])-1\n",
    "        if '2/3' in pop_names_moms:\n",
    "            icol = int(pop_names_moms.split(' ')[1][3])-3\n",
    "        else:\n",
    "            icol = int(pop_names_moms.split(' ')[1][1])-3\n",
    "            \n",
    "    #if irow > 1:\n",
    "    #    continue\n",
    "        \n",
    "    print(pop_names_moms, irow, icol)\n",
    "    \n",
    "    axes[irow,icol].boxplot(pops_curv_moms[pop_names_moms])\n",
    "    \n",
    "    axes[irow,icol].set_title(pop_names_moms.rsplit(' ', 2)[0])\n",
    "    \n",
    "for i, sim_pop_names_moms in enumerate(sorted(list(sims_curv_moms.keys()))[::-1]):\n",
    "    sim_name = sim_pop_names_moms.split(' ')[0]\n",
    "    if 'FS' in sim_pop_names_moms:\n",
    "        irow = int(sim_pop_names_moms.split(' ')[2][0])-1\n",
    "        icol = -1\n",
    "    else:\n",
    "        irow = int(sim_pop_names_moms.split(' ')[3][0])-1\n",
    "        if '2/3' in sim_pop_names_moms:\n",
    "            icol = int(sim_pop_names_moms.split(' ')[2][3])-3\n",
    "        else:\n",
    "            icol = int(sim_pop_names_moms.split(' ')[2][1])-3\n",
    "            \n",
    "    #if irow > 1:\n",
    "    #    continue\n",
    "        \n",
    "    if irow == 0:\n",
    "        axes[irow,icol].set_ylim([-1, 9])\n",
    "        if icol == 0:\n",
    "            axes[irow,icol].set_ylabel('Curvature (1/s$^3$)')\n",
    "    elif irow == 1:\n",
    "        axes[irow,icol].set_ylim([-1, 9])\n",
    "        if icol == 0:\n",
    "            axes[irow,icol].set_ylabel('Curvature (1/s$^3$)')\n",
    "    elif irow == 2:\n",
    "        axes[irow,icol].set_ylim([-1, 5])\n",
    "        if icol == 0:\n",
    "            axes[irow,icol].set_ylabel('Skewness')\n",
    "    elif irow == 3:\n",
    "        axes[irow,icol].set_ylim([-4, 20])\n",
    "        if icol == 0:\n",
    "            axes[irow,icol].set_ylabel('Kurtosis')\n",
    "        \n",
    "        \n",
    "    if icol != 0:\n",
    "        axes[irow,icol].set_yticklabels([])\n",
    "        \n",
    "    #print(sim_pop_names_moms, irow, icol)\n",
    "    \n",
    "    if irow == 0 and icol == 0:\n",
    "        sim_label = sims_labels[sim_name]\n",
    "    else:\n",
    "        sim_label = None\n",
    "    \n",
    "    axes[irow,icol].plot(1, sims_curv_moms[sim_pop_names_moms], 'd', markersize = 12, color = sims_colors[sim_name], label = sim_label)\n",
    "    \n",
    "    fig.subplots_adjust(hspace = 0.4, left = 0.05, right = 0.81, bottom = 0.05, top = 0.9)\n",
    "    \n",
    "    axes[irow,icol].set_xticks([])\n",
    "        \n",
    "    plt.figtext(x = 0.37, y = 0.93, s = '1st moment', fontsize = 20,)\n",
    "    plt.figtext(x = 0.37, y = 0.7, s = '2nd moment', fontsize = 20)\n",
    "    plt.figtext(x = 0.37, y = 0.48, s = '3rd moment', fontsize = 18)\n",
    "    plt.figtext(x = 0.37, y = 0.25, s = '4th moment', fontsize = 18)\n",
    "    \n",
    "    fig.legend(bbox_to_anchor = (0.99, 0.85))\n",
    "    \n",
    "    \n",
    "    fig_name = 'curvature_first_two_moms_dist_'+sim_name+'.png'\n",
    "    savepath = os.path.join(fig_dir, fig_name)\n",
    "\n",
    "#fig.savefig(savepath, facecolor='w')"
   ]
  },
  {
   "cell_type": "code",
   "execution_count": null,
   "metadata": {},
   "outputs": [],
   "source": []
  }
 ],
 "metadata": {
  "kernelspec": {
   "display_name": "Python 3",
   "language": "python",
   "name": "python3"
  },
  "language_info": {
   "codemirror_mode": {
    "name": "ipython",
    "version": 3
   },
   "file_extension": ".py",
   "mimetype": "text/x-python",
   "name": "python",
   "nbconvert_exporter": "python",
   "pygments_lexer": "ipython3",
   "version": "3.7.6"
  }
 },
 "nbformat": 4,
 "nbformat_minor": 4
}
