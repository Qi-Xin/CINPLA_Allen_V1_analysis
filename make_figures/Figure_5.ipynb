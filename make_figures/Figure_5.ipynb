{
 "cells": [
  {
   "cell_type": "code",
   "execution_count": 2,
   "metadata": {},
   "outputs": [],
   "source": [
    "%load_ext autoreload\n",
    "%autoreload 2\n",
    "%config Completer.use_jedi = False"
   ]
  },
  {
   "cell_type": "code",
   "execution_count": 3,
   "metadata": {},
   "outputs": [],
   "source": [
    "import numpy as np\n",
    "import matplotlib.pyplot as plt\n",
    "import h5py\n",
    "from glob import glob\n",
    "from tqdm import tqdm\n",
    "import xarray as xr\n",
    "import os, sys\n",
    "import scipy\n",
    "import pandas as pd\n",
    "from scipy.ndimage import gaussian_filter\n",
    "from sklearn.decomposition import PCA\n",
    "from scipy import stats\n",
    "from scipy import interpolate\n",
    "from glob import glob\n",
    "\n",
    "from mpl_toolkits.axes_grid1.anchored_artists import AnchoredSizeBar\n",
    "\n",
    "from allensdk.brain_observatory.ecephys.ecephys_project_cache import EcephysProjectCache\n",
    "\n",
    "from utils import *"
   ]
  },
  {
   "cell_type": "code",
   "execution_count": 4,
   "metadata": {},
   "outputs": [],
   "source": [
    "# for plotting\n",
    "plt.rcParams.update({'font.size': 16})"
   ]
  },
  {
   "cell_type": "code",
   "execution_count": 93,
   "metadata": {},
   "outputs": [],
   "source": [
    "exp_meta_data_dir = '../meta_data/exp'\n",
    "exp_data_dir = '../processed_data/exp'\n",
    "sim_data_dir = '../processed_data/sim'\n",
    "\n",
    "fig_dir = 'Figures/Figure_5'"
   ]
  },
  {
   "cell_type": "markdown",
   "metadata": {},
   "source": [
    "# Load data from experiments"
   ]
  },
  {
   "cell_type": "code",
   "execution_count": 6,
   "metadata": {},
   "outputs": [],
   "source": [
    "# Load meta data\n",
    "manifest_path = os.path.join(exp_meta_data_dir, 'ecephys_cache_dir_10_31', \"manifest.json\")\n",
    "#manifest_path = os.path.join(exp_meta_data_dir, \"manifest.json\")\n",
    "cache = EcephysProjectCache.from_warehouse(manifest=manifest_path)"
   ]
  },
  {
   "cell_type": "markdown",
   "metadata": {},
   "source": [
    "## CSD"
   ]
  },
  {
   "cell_type": "code",
   "execution_count": 7,
   "metadata": {},
   "outputs": [],
   "source": [
    "channels = cache.get_channels()\n",
    "probes = cache.get_probes()"
   ]
  },
  {
   "cell_type": "code",
   "execution_count": 8,
   "metadata": {},
   "outputs": [
    {
     "data": {
      "text/plain": [
       "53"
      ]
     },
     "execution_count": 8,
     "metadata": {},
     "output_type": "execute_result"
    }
   ],
   "source": [
    "trial_window_start = -1.0\n",
    "trial_window_end = 0.5\n",
    "\n",
    "\n",
    "loadpaths_csd = sorted(glob(os.path.join(exp_data_dir, 'csd', \n",
    "            'trial_window_'+str(trial_window_start).replace('.','pnt')+\\\n",
    "             '_to_'+str(trial_window_end).replace('.','pnt')+'s', '*')))\n",
    "loadpaths_lfp = sorted(glob(os.path.join(exp_data_dir, 'lfp', 'trial_window_'\\\n",
    "             +str(trial_window_start).replace('.','pnt')+\\\n",
    "             '_to_'+str(trial_window_end).replace('.','pnt')+'s', '*')))\n",
    "    \n",
    "len(loadpaths_csd)"
   ]
  },
  {
   "cell_type": "code",
   "execution_count": 9,
   "metadata": {},
   "outputs": [],
   "source": [
    "twoi_start = -0.0\n",
    "twoi_end = 0.1\n",
    "\n",
    "Fs = 1250 # Hz"
   ]
  },
  {
   "cell_type": "code",
   "execution_count": null,
   "metadata": {},
   "outputs": [],
   "source": []
  },
  {
   "cell_type": "code",
   "execution_count": 10,
   "metadata": {},
   "outputs": [
    {
     "name": "stdout",
     "output_type": "stream",
     "text": [
      "Session id:  715093703\n",
      "Session id:  719161530\n",
      "Session id:  721123822\n",
      "Session id:  732592105\n",
      "Session id:  737581020\n",
      "Session id:  739448407\n",
      "Session id:  742951821\n",
      "Session id:  744228101\n",
      "Session id:  746083955\n",
      "Session id:  750332458\n",
      "Session id:  750749662\n",
      "Session id:  751348571\n",
      "Session id:  754312389\n",
      "Session id:  754829445\n",
      "Session id:  755434585\n",
      "Session id:  756029989\n",
      "Session id:  757216464\n",
      "Session id:  757970808\n",
      "Session id:  758798717\n",
      "Session id:  759883607\n",
      "Session id:  760345702\n",
      "Session id:  760693773\n",
      "Session id:  761418226\n",
      "Session id:  762120172\n",
      "Session id:  762602078\n",
      "Session id:  763673393\n",
      "Session id:  766640955\n",
      "Session id:  767871931\n",
      "Session id:  768515987\n",
      "Session id:  771160300\n",
      "Session id:  771990200\n",
      "Session id:  773418906\n",
      "Session id:  774875821\n",
      "Session id:  778240327\n",
      "Session id:  778998620\n",
      "Session id:  779839471\n",
      "Session id:  781842082\n",
      "Session id:  786091066\n",
      "Session id:  787025148\n",
      "Session id:  789848216\n",
      "Session id:  791319847\n",
      "Session id:  793224716\n",
      "Session id:  794812542\n",
      "Session id:  797828357\n",
      "Session id:  798911424\n",
      "Session id:  799864342\n",
      "Session id:  816200189\n",
      "Session id:  821695405\n",
      "Session id:  829720705\n",
      "Session id:  831882777\n",
      "Session id:  835479236\n",
      "Session id:  839068429\n",
      "Session id:  840012044\n"
     ]
    }
   ],
   "source": [
    "twoi_start = -0.0\n",
    "twoi_end = 0.1\n",
    "\n",
    "Fs = 1250 # Hz\n",
    "\n",
    "session_ids = list() # all session ids\n",
    "sessions_channels_vert_pos = dict()\n",
    "sessions_csd_trial_avg = dict()\n",
    "sessions_csd_all_trials = dict()\n",
    "sessions_channel_ids_csd = dict()\n",
    "\n",
    "for i, file_path in enumerate(loadpaths_csd):\n",
    "    session_id = os.path.basename(file_path).split('_')[0]\n",
    "    print('Session id: ', session_id)\n",
    "    data = np.load(file_path, allow_pickle = True)\n",
    "        \n",
    "    session_ids.append(session_id)\n",
    "        \n",
    "    t = np.array(data[()]['csd_mean']['time_from_presentation_onset'])\n",
    "    t_min = twoi_start; t_max = twoi_end\n",
    "    mask = np.logical_and(t>=t_min, t<=t_max)\n",
    "    t = t[mask]\n",
    "    \n",
    "    channels_vert_pos = data[()]['channel_vertical_pos']\n",
    "    channels_vert_pos = channels_vert_pos[::-1]\n",
    "    channels_vert_pos -= channels_vert_pos.max()\n",
    "    sessions_channels_vert_pos[session_id] = channels_vert_pos\n",
    "    \n",
    "    mask_session = channels['ecephys_session_id'] == int(session_id)\n",
    "    mask_structure = channels[mask_session]['ecephys_structure_acronym'] == 'VISp'\n",
    "    dorsal_ventral_ccf_coordinate = channels[mask_session][mask_structure]['dorsal_ventral_ccf_coordinate']\n",
    "    channel_ids_csd = data[()]['csd_mean'].channel.values\n",
    "    dorsal_ventral_ccf_coordinate = -(dorsal_ventral_ccf_coordinate[channel_ids_csd]-dorsal_ventral_ccf_coordinate[channel_ids_csd].min())# higher dorsal-ventral value means more ventral\n",
    "    \n",
    "    if ~np.all(np.isnan(dorsal_ventral_ccf_coordinate)): # if all NaNs it means exact probe location not recovered\n",
    "        csd_trial_avg = data[()]['csd_mean']\n",
    "        csd_trial_avg = csd_trial_avg[:,mask]\n",
    "        sessions_csd_trial_avg[session_id] = csd_trial_avg.values\n",
    "\n",
    "        csd_all_trials = data[()]['csd']\n",
    "        csd_all_trials = csd_all_trials[:,:,mask]\n",
    "        sessions_csd_all_trials[session_id] = csd_all_trials.values\n",
    "        \n",
    "        sessions_channel_ids_csd[session_id] = channel_ids_csd"
   ]
  },
  {
   "cell_type": "markdown",
   "metadata": {},
   "source": [
    "### Load channel depth data"
   ]
  },
  {
   "cell_type": "code",
   "execution_count": 11,
   "metadata": {},
   "outputs": [],
   "source": [
    "#filename = 'cortical_depth_'+str(session_id)+'.csv'\n",
    "#loadpath = os.path.join(exp_meta_data_dir, 'probes_cortical_depths', filename)\n",
    "sessions_df_depth = dict()\n",
    "loadpaths = sorted(glob(os.path.join(exp_meta_data_dir, 'probes_cortical_depths', '*')))\n",
    "for loadpath in loadpaths:\n",
    "    session_id = loadpath.split('/')[-1].split('.')[0].split('_')[-1]\n",
    "    df_depth = pd.read_csv(loadpath, sep=' ')\n",
    "    df_depth = df_depth.set_index('id')\n",
    "    sessions_df_depth[session_id] = df_depth\n"
   ]
  },
  {
   "cell_type": "markdown",
   "metadata": {},
   "source": [
    "#### Remove faulty channels"
   ]
  },
  {
   "cell_type": "code",
   "execution_count": 12,
   "metadata": {},
   "outputs": [
    {
     "name": "stdout",
     "output_type": "stream",
     "text": [
      "Session ID:  715093703\n",
      "Session ID:  719161530\n",
      "Session ID:  721123822\n",
      "Session ID:  744228101\n",
      "Session ID:  750749662\n",
      "Session ID:  751348571\n",
      "Session ID:  754312389\n",
      "Session ID:  754829445\n",
      "Session ID:  755434585\n",
      "Session ID:  756029989\n",
      "Session ID:  757216464\n",
      "Session ID:  757970808\n",
      "Session ID:  758798717\n",
      "Session ID:  759883607\n",
      "Session ID:  760345702\n",
      "Session ID:  761418226\n",
      "Session ID:  762602078\n",
      "Session ID:  763673393\n",
      "Session ID:  766640955\n",
      "Session ID:  767871931\n",
      "Session ID:  768515987\n",
      "Session ID:  771160300\n",
      "Session ID:  771990200\n",
      "Session ID:  773418906\n",
      "Session ID:  774875821\n",
      "Session ID:  778240327\n",
      "Session ID:  778998620\n",
      "Session ID:  779839471\n",
      "Session ID:  781842082\n",
      "Session ID:  786091066\n",
      "Session ID:  787025148\n",
      "Session ID:  789848216\n",
      "Session ID:  791319847\n",
      "Session ID:  793224716\n",
      "Session ID:  794812542\n",
      "Session ID:  797828357\n",
      "Session ID:  798911424\n",
      "Session ID:  799864342\n",
      "Session ID:  816200189\n",
      "Session ID:  829720705\n",
      "Session ID:  831882777\n",
      "Session ID:  835479236\n",
      "Session ID:  839068429\n",
      "Session ID:  840012044\n",
      "\n",
      " ---------------------------------------------- \n",
      "\n",
      "Session ID:  829720705 has channels outside cortex. Removed. [0.         0.03345686 0.06221855 0.09893948 0.1265617  0.16754025\n",
      " 0.2071622  0.23936105 0.28103828 0.31502497 0.3725425  0.40745854\n",
      " 0.45601594 0.49634802 0.5501152  0.60782087 0.65402913 0.72092056\n",
      " 0.7949196  0.877065   0.9400711  0.         0.         0.\n",
      " 0.         0.         0.         0.         0.9597021 ] \n",
      " [0.         0.03345686 0.06221855 0.09893948 0.1265617  0.16754025\n",
      " 0.2071622  0.23936105 0.28103828 0.31502497 0.3725425  0.40745854\n",
      " 0.45601594 0.49634802 0.5501152  0.60782087 0.65402913 0.72092056\n",
      " 0.7949196  0.877065   0.9400711 ] 21\n"
     ]
    }
   ],
   "source": [
    "structure = 'VISp'\n",
    "sessions_channels_cort_depth = dict()\n",
    "\n",
    "for session_id in sessions_df_depth.keys():\n",
    "    df_depth = sessions_df_depth[session_id]\n",
    "    mask_structure = df_depth.ecephys_structure_acronym == structure\n",
    "    df_depth = df_depth[mask_structure]\n",
    "    channels_cort_depth = df_depth.cortical_depth\n",
    "        \n",
    "    if session_id in sessions_channel_ids_csd.keys():\n",
    "        print('Session ID: ', session_id)\n",
    "        \n",
    "        channel_ids_csd = sessions_channel_ids_csd[session_id]\n",
    "    \n",
    "        channels_cort_depth = channels_cort_depth[channel_ids_csd]      \n",
    "        sessions_channels_cort_depth[session_id] = channels_cort_depth.values\n",
    "        \n",
    "print('\\n ---------------------------------------------- \\n')\n",
    "sessions_channels_cort_depth_cleaned = dict()\n",
    "for session_id, channels_cort_depth in sessions_channels_cort_depth.items():\n",
    "    channels_cort_depth = channels_cort_depth[::-1]\n",
    "    \n",
    "    mask_nan = np.isnan(channels_cort_depth)\n",
    "    \n",
    "    channels_cort_depth_no_nan = channels_cort_depth[~mask_nan][::-1]\n",
    "    \n",
    "    if mask_nan.sum() > 0:\n",
    "        print('Session ID: ', session_id, 'has NaN channels', channels_cort_depth, '\\n', channels_cort_depth_no_nan, '\\n', len(channels_cort_depth_no_nan))\n",
    "        \n",
    "    mask_zeros_after_1st_chan = channels_cort_depth_no_nan == 0\n",
    "    \n",
    "    if mask_zeros_after_1st_chan[1:].sum() > 0:\n",
    "        end_chan = np.where(mask_zeros_after_1st_chan[1:])[0][0]+1\n",
    "\n",
    "        channels_cort_depth_cleaned = channels_cort_depth_no_nan[:end_chan]\n",
    "\n",
    "        print('Session ID: ', session_id, 'has channels outside cortex. Removed.', \\\n",
    "              channels_cort_depth_no_nan, '\\n', channels_cort_depth_cleaned, len(channels_cort_depth_cleaned))\n",
    "    \n",
    "        sessions_channels_cort_depth_cleaned[session_id] = channels_cort_depth_cleaned\n",
    "    else:\n",
    "        sessions_channels_cort_depth_cleaned[session_id] = channels_cort_depth_no_nan\n",
    "        \n",
    "sessions_csd_trial_avg_short = dict()\n",
    "sessions_csd_all_trials_short = dict()\n",
    "for isess, session_id in enumerate(sessions_csd_trial_avg.keys()):\n",
    "    csd_trial_avg = sessions_csd_trial_avg[session_id]\n",
    "    csd_all_trials = sessions_csd_all_trials[session_id]\n",
    "    \n",
    "    channels_vert_pos = sessions_channels_vert_pos[session_id]\n",
    "    \n",
    "    cut_off_chan = len(sessions_channels_cort_depth_cleaned[session_id])\n",
    "    \n",
    "    #print(isess, session_id, csd_trial_avg.shape[0], channels_vert_pos[-1], \\\n",
    "    #      channels_vert_pos[:cut_off_chan].shape, channels_vert_pos[:cut_off_chan][-1])#,\\\n",
    "\n",
    "    sessions_csd_trial_avg_short[session_id] = csd_trial_avg[:cut_off_chan]\n",
    "    sessions_csd_all_trials_short[session_id] = csd_all_trials[:cut_off_chan]"
   ]
  },
  {
   "cell_type": "code",
   "execution_count": null,
   "metadata": {},
   "outputs": [],
   "source": []
  },
  {
   "cell_type": "markdown",
   "metadata": {},
   "source": [
    "## Load spike trains"
   ]
  },
  {
   "cell_type": "code",
   "execution_count": 14,
   "metadata": {},
   "outputs": [],
   "source": [
    "exp_spike_data_dir = os.path.join(exp_data_dir, 'spikes', 'V1')\n",
    "filename = 'sessions_spike_counts_-1to0pnt5s_white_flash.npy'\n",
    "\n",
    "loadpath = os.path.join(exp_spike_data_dir, filename)\n",
    "\n",
    "sessions_spike_trains_V1 = np.load(loadpath, allow_pickle = True)[()]"
   ]
  },
  {
   "cell_type": "markdown",
   "metadata": {},
   "source": [
    "#### Load meta data"
   ]
  },
  {
   "cell_type": "code",
   "execution_count": 13,
   "metadata": {},
   "outputs": [],
   "source": [
    "units = cache.get_units()"
   ]
  },
  {
   "cell_type": "markdown",
   "metadata": {},
   "source": [
    "## Load simulation data"
   ]
  },
  {
   "cell_type": "code",
   "execution_count": 21,
   "metadata": {},
   "outputs": [],
   "source": [
    "selected_sims_data_dir = os.path.join(sim_data_dir, 'model_versions')"
   ]
  },
  {
   "cell_type": "code",
   "execution_count": 22,
   "metadata": {},
   "outputs": [],
   "source": [
    "nchan_sim = 23           # Number of channels on probe in simulation\n",
    "\n",
    "trial_dur_sim = 750      # Duration one trial (ms)\n",
    "tstim_onset_sim = 250    # Stimulus onset in each trial (ms)\n",
    "ntrials_sim = 10         # Number of trials"
   ]
  },
  {
   "cell_type": "markdown",
   "metadata": {},
   "source": [
    "### CSD"
   ]
  },
  {
   "cell_type": "code",
   "execution_count": 29,
   "metadata": {},
   "outputs": [
    {
     "name": "stdout",
     "output_type": "stream",
     "text": [
      "old_model\n",
      "intermediate_model\n",
      "final_model\n",
      "Total CSD from model versions:  ['old_model', 'intermediate_model']\n"
     ]
    }
   ],
   "source": [
    "csd_sims = find_files(selected_sims_data_dir, filename = 'csd_total.npy')\n",
    "\n",
    "for sim_name in list(csd_sims.keys()):\n",
    "    if 'old' not in sim_name and 'intermediate' not in sim_name:\n",
    "        del csd_sims[sim_name]\n",
    "        \n",
    "print('Total CSD from model versions: ', list(csd_sims.keys()))"
   ]
  },
  {
   "cell_type": "markdown",
   "metadata": {},
   "source": [
    "### Load layerpop contributions to CSD (TO BE ADDED)"
   ]
  },
  {
   "cell_type": "raw",
   "metadata": {},
   "source": [
    "csd_sims_layerpops = find_files(selected_sims_data_dir, filename = 'csd_layerpop_contributions_summed.npy')\n",
    "\n",
    "for sim_name in list(csd_sims_layerpops.keys()):\n",
    "    if 'old' not in sim_name and ...: \n",
    "        del csd_sims_layerpops[sim_name]\n",
    "csd_sims_layerpops.keys()"
   ]
  },
  {
   "cell_type": "markdown",
   "metadata": {},
   "source": [
    "## Spikes"
   ]
  },
  {
   "cell_type": "code",
   "execution_count": 31,
   "metadata": {},
   "outputs": [],
   "source": [
    "def find_all_fir_rates_files_sim(path,filename):\n",
    "    \n",
    "    result = dict()\n",
    "    for root, dirs, files in os.walk(path):\n",
    "        if len(glob(os.path.join(root,filename)))>0:\n",
    "            \n",
    "            fir_rate_file_path = glob(os.path.join(root,filename))[0]\n",
    "            sim_name = fir_rate_file_path.split('/')[-2]\n",
    "            fir_rate_file = np.load(fir_rate_file_path, allow_pickle=True)[()]\n",
    "            result[sim_name] = fir_rate_file\n",
    "    return result"
   ]
  },
  {
   "cell_type": "code",
   "execution_count": 32,
   "metadata": {},
   "outputs": [
    {
     "name": "stdout",
     "output_type": "stream",
     "text": [
      "['old_model', 'intermediate_model', 'final_model']\n"
     ]
    }
   ],
   "source": [
    "selected_sims_data_dir = os.path.join(sim_data_dir, 'model_versions')\n",
    "timestamps_configs = find_all_fir_rates_files_sim(selected_sims_data_dir, 'timestamps_with_neuron_ids.npy')\n",
    "sim_names = list(timestamps_configs.keys())\n",
    "print(sim_names)\n",
    "sim_name = sim_names[-1]"
   ]
  },
  {
   "cell_type": "code",
   "execution_count": null,
   "metadata": {},
   "outputs": [],
   "source": []
  },
  {
   "cell_type": "code",
   "execution_count": 51,
   "metadata": {},
   "outputs": [],
   "source": [
    "for sim_name in list(timestamps_configs.keys()):\n",
    "    if 'old' not in sim_name and 'intermediate' not in sim_name:\n",
    "        del timestamps_configs[sim_name]"
   ]
  },
  {
   "cell_type": "code",
   "execution_count": 52,
   "metadata": {},
   "outputs": [
    {
     "data": {
      "text/plain": [
       "dict_keys(['old_model', 'intermediate_model'])"
      ]
     },
     "execution_count": 52,
     "metadata": {},
     "output_type": "execute_result"
    }
   ],
   "source": [
    "timestamps_configs.keys()"
   ]
  },
  {
   "cell_type": "markdown",
   "metadata": {},
   "source": [
    "# Make figures"
   ]
  },
  {
   "cell_type": "markdown",
   "metadata": {},
   "source": [
    "### Sim CSD"
   ]
  },
  {
   "cell_type": "code",
   "execution_count": 37,
   "metadata": {},
   "outputs": [],
   "source": [
    "step_depth_ticks_sim = 5\n",
    "step_depth_ticklabels_sim = 200\n",
    "nchan_sim = 23\n",
    "depth_ticks_sim = np.arange(0, nchan_sim, step_depth_ticks_sim)\n",
    "depth_ticklabels_sim = -np.arange(0, 1000, step_depth_ticklabels_sim, dtype = 'int')\n",
    "\n",
    "step_time_ticks_sim = 20\n",
    "time_tick_stop_sim = 100\n",
    "time_tick_start_sim = 0\n",
    "time_ticks_sim = np.arange(time_tick_start_sim, time_tick_stop_sim+step_time_ticks_sim, step_time_ticks_sim)\n",
    "time_ticklabels_sim = np.arange(time_tick_start_sim, time_tick_stop_sim+step_time_ticks_sim, step_time_ticks_sim)"
   ]
  },
  {
   "cell_type": "code",
   "execution_count": 38,
   "metadata": {},
   "outputs": [],
   "source": [
    "sims_labels = dict()\n",
    "\n",
    "sims_labels['old_model'] = 'Original model'\n",
    "sims_labels['intermediate_model'] = 'Model w/adjusted\\n syn. weights'\n",
    "\n",
    "sims_colors = dict()\n",
    "sims_colors['old_model'] = 'b'\n",
    "sims_colors['intermediate_model'] = 'g'"
   ]
  },
  {
   "cell_type": "markdown",
   "metadata": {},
   "source": [
    "#### Plot total CSD"
   ]
  },
  {
   "cell_type": "code",
   "execution_count": 39,
   "metadata": {},
   "outputs": [
    {
     "data": {
      "image/png": "[encoded data removed]",
      "text/plain": [
       "<Figure size 432x360 with 2 Axes>"
      ]
     },
     "metadata": {
      "needs_background": "light"
     },
     "output_type": "display_data"
    }
   ],
   "source": [
    "fig, axes = plt.subplots(nrows = 1, figsize = (6, 5))\n",
    "\n",
    "fig.subplots_adjust(wspace = 0.2, left = 0.2, right = 0.75, bottom = 0.2, top = 0.8)\n",
    "\n",
    "sim_name = 'intermediate_model'\n",
    "\n",
    "scale_to_uA = 1E-3\n",
    "csd_plot = csd_sims[sim_name]['trial_avg'][:nchan_sim,tstim_onset_sim:tstim_onset_sim+100]*scale_to_uA\n",
    "cmap_range = np.abs(csd_plot).max() / 1.2\n",
    "im = axes.imshow(csd_plot, cmap = 'jet', aspect = 'auto', vmin = -cmap_range, vmax = cmap_range)\n",
    "\n",
    "cbaxes = fig.add_axes([0.77,0.30,0.02, 0.4])\n",
    "cb = fig.colorbar(im, ax = axes, cax = cbaxes)\n",
    "cb.set_label('CSD ($\\mu$A/mm$^3$)')\n",
    "\n",
    "plt.figtext(x = 0.2, y = 0.75, s = 'L1', fontsize = 19, fontweight = 560)\n",
    "plt.figtext(x = 0.2, y = 0.66, s = 'L2/3', fontsize = 19, fontweight = 560)\n",
    "plt.figtext(x = 0.2, y = 0.56, s = 'L4', fontsize = 21, fontweight = 560)\n",
    "plt.figtext(x = 0.2, y = 0.45, s = 'L5', fontsize = 21, fontweight = 560)\n",
    "plt.figtext(x = 0.2, y = 0.33, s = 'L6', fontsize = 21, fontweight = 560)\n",
    "\n",
    "    \n",
    "#axes.set_yticks(depth_ticks_sim)\n",
    "#axes.set_yticklabels(depth_ticklabels_sim)\n",
    "#axes.set_ylabel('Depth ($\\mu$m)')\n",
    "\n",
    "axes.set_yticks(depth_ticks_sim)\n",
    "axes.set_yticklabels(depth_ticklabels_sim)\n",
    "axes.set_ylabel('Depth ($\\mu$m)')\n",
    "\n",
    "#axes.set_title('CSD of '+sims_labels[sim_name].lower())\n",
    "\n",
    "axes.set_title(sims_labels[sim_name])\n",
    "\n",
    "axes.set_xticks(time_ticks_sim)\n",
    "axes.set_xticklabels(time_ticklabels_sim)\n",
    "\n",
    "axes.set_xticks(time_ticks_sim)\n",
    "axes.set_xticklabels(time_ticklabels_sim)\n",
    "axes.set_xlabel('Time from flash onset (ms)')\n",
    "\n",
    "filename = 'sim_CSD_'+sim_name+'-v3.png'\n",
    "\n",
    "savepath = os.path.join(fig_dir, filename)\n",
    "\n",
    "#fig.savefig(savepath, facecolor = 'w')"
   ]
  },
  {
   "cell_type": "markdown",
   "metadata": {},
   "source": [
    "### Population contributions to the CSD (TO BE ADDED)"
   ]
  },
  {
   "cell_type": "code",
   "execution_count": 19,
   "metadata": {},
   "outputs": [],
   "source": [
    "pop_name_labels = dict()\n",
    "pop_name_labels['23e'] = 'E2/3'\n",
    "pop_name_labels['23i'] = 'I2/3'\n",
    "pop_name_labels['4e'] = 'E4'\n",
    "pop_name_labels['4i'] = 'I4'\n",
    "\n",
    "pop_name_labels['5e'] = 'E5'\n",
    "pop_name_labels['5i'] = 'I5'\n",
    "pop_name_labels['6e'] = 'E6'\n",
    "pop_name_labels['6i'] = 'I6'\n"
   ]
  },
  {
   "cell_type": "markdown",
   "metadata": {},
   "source": [
    "### Spikes"
   ]
  },
  {
   "cell_type": "code",
   "execution_count": 53,
   "metadata": {},
   "outputs": [],
   "source": [
    "sims_spike_trains_cell_pops = dict()"
   ]
  },
  {
   "cell_type": "code",
   "execution_count": 54,
   "metadata": {},
   "outputs": [
    {
     "name": "stdout",
     "output_type": "stream",
     "text": [
      "intermediate_model\n",
      "e23Cux2\n",
      "10\n",
      "e4Nr5a1\n",
      "10\n",
      "e4Rorb\n",
      "10\n",
      "e4Scnn1a\n",
      "10\n",
      "e4other\n",
      "10\n",
      "e5Rbp4\n",
      "10\n",
      "e5noRbp4\n",
      "10\n",
      "e6Ntsr1\n",
      "10\n",
      "i1Htr3a\n",
      "10\n",
      "i23Htr3a\n",
      "10\n",
      "i23Pvalb\n",
      "10\n",
      "i23Sst\n",
      "10\n",
      "i4Htr3a\n",
      "10\n",
      "i4Pvalb\n",
      "10\n",
      "i4Sst\n",
      "10\n",
      "i5Htr3a\n",
      "10\n",
      "i5Pvalb\n",
      "10\n",
      "i5Sst\n",
      "10\n",
      "i6Htr3a\n",
      "10\n",
      "i6Pvalb\n",
      "10\n",
      "i6Sst\n",
      "10\n",
      "old_model\n",
      "e23Cux2\n",
      "10\n",
      "e4Nr5a1\n",
      "10\n",
      "e4Rorb\n",
      "10\n",
      "e4Scnn1a\n",
      "10\n",
      "e4other\n",
      "10\n",
      "e5Rbp4\n",
      "10\n",
      "e5noRbp4\n",
      "10\n",
      "e6Ntsr1\n",
      "10\n",
      "i1Htr3a\n",
      "10\n",
      "i23Htr3a\n",
      "10\n",
      "i23Pvalb\n",
      "10\n",
      "i23Sst\n",
      "10\n",
      "i4Htr3a\n",
      "10\n",
      "i4Pvalb\n",
      "10\n",
      "i4Sst\n",
      "10\n",
      "i5Htr3a\n",
      "10\n",
      "i5Pvalb\n",
      "10\n",
      "i5Sst\n",
      "10\n",
      "i6Htr3a\n",
      "10\n",
      "i6Pvalb\n",
      "10\n",
      "i6Sst\n",
      "10\n"
     ]
    }
   ],
   "source": [
    "\n",
    "for sim_name in sorted(list(timestamps_configs.keys())):\n",
    "    print(sim_name)\n",
    "\n",
    "    timestamps_all_cell_pops = timestamps_configs[sim_name]\n",
    "    cell_names = list(timestamps_all_cell_pops.keys())\n",
    "\n",
    "\n",
    "    sim_spike_trains_cell_pops = dict()\n",
    "\n",
    "    for cell_name in cell_names:\n",
    "        print(cell_name)\n",
    "        timestamps_cell_pop = timestamps_all_cell_pops[cell_name]\n",
    "\n",
    "        neuron_ids = timestamps_cell_pop['neuron_ids_of_timestamps']\n",
    "        trials = timestamps_cell_pop['trials']\n",
    "        timestamps = timestamps_cell_pop['timestamps']\n",
    "        #timestamps = timestamps_cell_pop['timestamps_by_trial']\n",
    "        trial_dur_sim = timestamps_cell_pop['trial_dur']\n",
    "        #ntrials_sim = len(np.unique(trials))\n",
    "        '''TODO: Implement general way to determine # of trials (that also works for sims that lasted a bit too long)'''\n",
    "        ntrials_sim = 10\n",
    "        #ntrials_sim = 3\n",
    "        #ntrials_sim = 7\n",
    "        #ntrials_sim = len(np.unique(trials))\n",
    "        #print(ntrials_sim)\n",
    "        timestamps = timestamps % trial_dur_sim\n",
    "        all_neuron_ids = timestamps_cell_pop['all_neuron_ids_in_pop']\n",
    "\n",
    "        spike_trains = np.zeros((len(all_neuron_ids), ntrials_sim, trial_dur_sim))\n",
    "        bins = np.arange(0,trial_dur_sim+1,1)\n",
    "\n",
    "        for i_nrn, neuron_id in enumerate(all_neuron_ids):\n",
    "            mask_neuron_id = neuron_ids == neuron_id\n",
    "\n",
    "            timestamps_nrn = timestamps[mask_neuron_id]\n",
    "\n",
    "            trials_this_nrn = trials[mask_neuron_id]\n",
    "\n",
    "            for trial in np.unique(trials_this_nrn):\n",
    "                if trial >= ntrials_sim:\n",
    "                    continue\n",
    "                mask_trial = trials_this_nrn == trial\n",
    "                timestamps_nrn_this_trial = timestamps_nrn[mask_trial]\n",
    "                spike_train_trial, _ = np.histogram(timestamps_nrn_this_trial, bins)\n",
    "\n",
    "                spike_trains[i_nrn, int(trial)] = spike_train_trial\n",
    "\n",
    "        sim_spike_trains_cell_pops[cell_name] = spike_trains[:,:ntrials_sim]\n",
    "        \n",
    "    sims_spike_trains_cell_pops[sim_name] = sim_spike_trains_cell_pops"
   ]
  },
  {
   "cell_type": "code",
   "execution_count": 55,
   "metadata": {
    "scrolled": true
   },
   "outputs": [
    {
     "name": "stdout",
     "output_type": "stream",
     "text": [
      "e23Cux2\n",
      "e4Nr5a1\n",
      "e4Rorb\n",
      "e4Scnn1a\n",
      "e4other\n",
      "e5Rbp4\n",
      "e5noRbp4\n",
      "e6Ntsr1\n",
      "i1Htr3a\n",
      "i23Htr3a\n",
      "i23Pvalb\n",
      "i23Sst\n",
      "i4Htr3a\n",
      "i4Pvalb\n",
      "i4Sst\n",
      "i5Htr3a\n",
      "i5Pvalb\n",
      "i5Sst\n",
      "i6Htr3a\n",
      "i6Pvalb\n",
      "i6Sst\n",
      "e23Cux2\n",
      "e4Nr5a1\n",
      "e4Rorb\n",
      "e4Scnn1a\n",
      "e4other\n",
      "e5Rbp4\n",
      "e5noRbp4\n",
      "e6Ntsr1\n",
      "i1Htr3a\n",
      "i23Htr3a\n",
      "i23Pvalb\n",
      "i23Sst\n",
      "i4Htr3a\n",
      "i4Pvalb\n",
      "i4Sst\n",
      "i5Htr3a\n",
      "i5Pvalb\n",
      "i5Sst\n",
      "i6Htr3a\n",
      "i6Pvalb\n",
      "i6Sst\n"
     ]
    }
   ],
   "source": [
    "sims_spike_trains_layer_pops = dict()\n",
    "\n",
    "for sim_name in sims_spike_trains_cell_pops.keys():\n",
    "\n",
    "    sim_spike_trains_layer_pops = dict()\n",
    "\n",
    "    sim_spike_trains_layer_pops['RS L2/3'] = []\n",
    "    sim_spike_trains_layer_pops['RS L4'] = []\n",
    "    sim_spike_trains_layer_pops['RS L5'] = []\n",
    "    sim_spike_trains_layer_pops['RS L6'] = []\n",
    "    sim_spike_trains_layer_pops['FS'] = []\n",
    "\n",
    "    for cell_pop_name, sim_spike_trains_cell_pop in sims_spike_trains_cell_pops[sim_name].items():\n",
    "        print(cell_pop_name)#, sim_spike_trains_cell_pops[cell_pop_name].shape)\n",
    "        #if cell_pop_name[0] == 'e' and cell_pop_name[1] == '2':\n",
    "        if cell_pop_name[-5:] != 'Pvalb' and cell_pop_name[1] == '2':\n",
    "            if len(sim_spike_trains_layer_pops['RS L2/3']) == 0:\n",
    "                sim_spike_trains_layer_pops['RS L2/3'] = sim_spike_trains_cell_pop\n",
    "            else:\n",
    "                sim_spike_trains_layer_pops['RS L2/3'] = np.concatenate((sim_spike_trains_layer_pops['RS L2/3'], \n",
    "                                                               sim_spike_trains_cell_pop), axis = 0)\n",
    "\n",
    "        #elif cell_pop_name[0] == 'e' and cell_pop_name[1] == '4':\n",
    "        elif cell_pop_name[-5:] != 'Pvalb' and cell_pop_name[1] == '4':\n",
    "            if len(sim_spike_trains_layer_pops['RS L4']) == 0:\n",
    "                sim_spike_trains_layer_pops['RS L4'] = sim_spike_trains_cell_pop\n",
    "            else:\n",
    "                sim_spike_trains_layer_pops['RS L4'] = np.concatenate((sim_spike_trains_layer_pops['RS L4'], \n",
    "                                                               sim_spike_trains_cell_pop), axis = 0)\n",
    "\n",
    "        elif cell_pop_name[-5:] != 'Pvalb' and cell_pop_name[1] == '5':\n",
    "            if len(sim_spike_trains_layer_pops['RS L5']) == 0:\n",
    "                sim_spike_trains_layer_pops['RS L5'] = sim_spike_trains_cell_pop\n",
    "            else:\n",
    "                sim_spike_trains_layer_pops['RS L5'] = np.concatenate((sim_spike_trains_layer_pops['RS L5'], \n",
    "                                                               sim_spike_trains_cell_pop), axis = 0)\n",
    "\n",
    "        elif cell_pop_name[-5:] != 'Pvalb' and cell_pop_name[1] == '6':\n",
    "            if len(sim_spike_trains_layer_pops['RS L6']) == 0:\n",
    "                sim_spike_trains_layer_pops['RS L6'] = sim_spike_trains_cell_pop\n",
    "            else:\n",
    "                sim_spike_trains_layer_pops['RS L6'] = np.concatenate((sim_spike_trains_layer_pops['RS L6'], \n",
    "                                                               sim_spike_trains_cell_pop), axis = 0)\n",
    "\n",
    "        elif cell_pop_name[-5:] == 'Pvalb':\n",
    "            if len(sim_spike_trains_layer_pops['FS']) == 0:\n",
    "                sim_spike_trains_layer_pops['FS'] = sim_spike_trains_cell_pop\n",
    "            else:\n",
    "                sim_spike_trains_layer_pops['FS'] = np.concatenate((sim_spike_trains_layer_pops['FS'], \n",
    "                                                               sim_spike_trains_cell_pop), axis = 0)\n",
    "                \n",
    "                \n",
    "    sims_spike_trains_layer_pops[sim_name] = sim_spike_trains_layer_pops"
   ]
  },
  {
   "cell_type": "markdown",
   "metadata": {},
   "source": [
    "## Get exp firing rates"
   ]
  },
  {
   "cell_type": "code",
   "execution_count": 56,
   "metadata": {},
   "outputs": [],
   "source": [
    "loadpaths_unit_depths = sorted(glob(os.path.join(exp_meta_data_dir, 'units_cortical_depth', '*')))"
   ]
  },
  {
   "cell_type": "code",
   "execution_count": 57,
   "metadata": {},
   "outputs": [],
   "source": [
    "\n",
    "sessions_units_depth = dict()\n",
    "\n",
    "\n",
    "for file_path in loadpaths_unit_depths:\n",
    "    properties = dict()\n",
    "    \n",
    "    session_id = file_path.split('/')[-1].split('_')[-1].split('.')[0]\n",
    "    units_depth = pd.read_csv(file_path, sep=' ')\n",
    "    units_depth = units_depth.set_index('id')\n",
    "    \n",
    "    properties['layer'] = units_depth['cortical_layer']\n",
    "    properties['depth'] = units_depth['cortical_depth']\n",
    "    \n",
    "    sessions_units_depth[session_id] = properties"
   ]
  },
  {
   "cell_type": "markdown",
   "metadata": {},
   "source": [
    "#### Split into layers (but merge inhibitory cells)"
   ]
  },
  {
   "cell_type": "code",
   "execution_count": 58,
   "metadata": {},
   "outputs": [],
   "source": [
    "sessions_spike_trains_layer_pops = dict()\n",
    "#for session_id in sessions_units_dist_top_channel.keys():\n",
    "for session_id, units_depth in sessions_units_depth.items():\n",
    "    #units_dist_top_channel = sessions_units_dist_top_channel[session_id]\n",
    "    session_id = int(session_id)\n",
    "    \n",
    "    spike_trains_E23 = []\n",
    "    spike_trains_E4 = []\n",
    "    spike_trains_E5 = []\n",
    "    spike_trains_E6 = []\n",
    "    \n",
    "    spike_trains_I = []\n",
    "    \n",
    "    \n",
    "    if session_id in sessions_spike_trains_V1.keys():\n",
    "        for unit_type in sessions_spike_trains_V1[session_id].keys():\n",
    "            spike_trains = sessions_spike_trains_V1[session_id][unit_type]\n",
    "\n",
    "            for i_unit, unit_id in enumerate(spike_trains.unit_id.values):\n",
    "                spike_train = spike_trains[:,:,i_unit]\n",
    "                #unit_dist_top_channel = units_dist_top_channel[unit_id]\n",
    "                layer_label = units_depth['layer'][unit_id]\n",
    "\n",
    "                if layer_label == 2:\n",
    "                    # L23\n",
    "                    if unit_type == 'exc':\n",
    "                        spike_trains_E23.append(spike_train.values)\n",
    "                elif layer_label == 4:\n",
    "                    if unit_type == 'exc':\n",
    "                        spike_trains_E4.append(spike_train.values)\n",
    "                elif layer_label == 5:\n",
    "                    if unit_type == 'exc':\n",
    "                        spike_trains_E5.append(spike_train.values)\n",
    "                elif layer_label == 6:\n",
    "                    if unit_type == 'exc':\n",
    "                        spike_trains_E6.append(spike_train.values)\n",
    "                        \n",
    "                if unit_type == 'inh':\n",
    "                    spike_trains_I.append(spike_train.values)\n",
    "\n",
    "        spike_trains_layer_pops = dict()\n",
    "\n",
    "        spike_trains_layer_pops['RS L2/3'] = np.array(spike_trains_E23)\n",
    "        spike_trains_layer_pops['RS L4'] = np.array(spike_trains_E4)\n",
    "        spike_trains_layer_pops['RS L5'] = np.array(spike_trains_E5)\n",
    "        spike_trains_layer_pops['RS L6'] = np.array(spike_trains_E6)\n",
    "        spike_trains_layer_pops['FS'] = np.array(spike_trains_I)\n",
    "\n",
    "        sessions_spike_trains_layer_pops[session_id] = spike_trains_layer_pops\n",
    "        "
   ]
  },
  {
   "cell_type": "code",
   "execution_count": null,
   "metadata": {},
   "outputs": [],
   "source": []
  },
  {
   "cell_type": "code",
   "execution_count": null,
   "metadata": {},
   "outputs": [],
   "source": []
  },
  {
   "cell_type": "code",
   "execution_count": 59,
   "metadata": {},
   "outputs": [
    {
     "name": "stdout",
     "output_type": "stream",
     "text": [
      "RS L2/3\n",
      "RS L4\n",
      "RS L5\n",
      "RS L6\n",
      "FS\n"
     ]
    }
   ],
   "source": [
    "all_spike_trains_layer_pops = dict()\n",
    "\n",
    "all_spike_trains_layer_pops['RS L2/3'] = []\n",
    "all_spike_trains_layer_pops['RS L4'] = []\n",
    "all_spike_trains_layer_pops['RS L5'] = []\n",
    "all_spike_trains_layer_pops['RS L6'] = []\n",
    "all_spike_trains_layer_pops['FS'] = []\n",
    "\n",
    "sessions_ncells_layer_pops = dict()\n",
    "\n",
    "for session_id, spike_trains_layer_pops in sessions_spike_trains_layer_pops.items():\n",
    "    ncells_layer_pops = dict()\n",
    "    for pop_name, spike_trains in spike_trains_layer_pops.items():\n",
    "        \n",
    "        ncells_layer_pops[pop_name] = len(spike_trains)\n",
    "        \n",
    "        if len(spike_trains) == 0:\n",
    "            continue\n",
    "        elif len(all_spike_trains_layer_pops[pop_name]) == 0:\n",
    "            print(pop_name)\n",
    "            all_spike_trains_layer_pops[pop_name] = spike_trains\n",
    "        else:\n",
    "            all_spike_trains_layer_pops[pop_name] = np.concatenate([all_spike_trains_layer_pops[pop_name], \\\n",
    "                                                                   spike_trains])\n",
    "            \n",
    "    sessions_ncells_layer_pops[session_id] = ncells_layer_pops"
   ]
  },
  {
   "cell_type": "code",
   "execution_count": 61,
   "metadata": {},
   "outputs": [
    {
     "name": "stdout",
     "output_type": "stream",
     "text": [
      "['intermediate_model', 'old_model']\n",
      "intermediate_model\n"
     ]
    },
    {
     "data": {
      "image/png": "[encoded data removed]",
      "text/plain": [
       "<Figure size 1584x324 with 5 Axes>"
      ]
     },
     "metadata": {
      "needs_background": "light"
     },
     "output_type": "display_data"
    }
   ],
   "source": [
    "tstim_onset_exp = 1000\n",
    "\n",
    "fig, axes = plt.subplots(ncols = 5, figsize = (22,4.5))\n",
    "\n",
    "fig.subplots_adjust(wspace = 0.3, left = 0.04, right = 0.85, bottom = 0.18, top = 0.82)\n",
    "\n",
    "sim_names = list(sims_spike_trains_layer_pops.keys())\n",
    "sim_names = sim_names\n",
    "print(sim_names)\n",
    "#sim_names.insert(0, sim_names.pop())\n",
    "\n",
    "iplot = 0\n",
    "for pop_name, all_spike_trains_pop in all_spike_trains_layer_pops.items():\n",
    "    \n",
    "    if iplot == 4:\n",
    "        axes[iplot].set_ylim([0, 60])\n",
    "    else:\n",
    "        axes[iplot].set_ylim([0, 30])\n",
    "        if iplot == 0:\n",
    "            \n",
    "            fir_rate_label = 'Exp'\n",
    "            std_label = '±1$\\sigma$'\n",
    "            \n",
    "            axes[iplot].set_yticks(np.arange(0,30+5,5))\n",
    "            axes[iplot].set_yticklabels(np.arange(0,30+5,5))\n",
    "        else:\n",
    "            fir_rate_label = None\n",
    "            std_label = None\n",
    "            sim_labels = [None, None]\n",
    "            axes[iplot].set_yticks(np.arange(0,30+5,5))\n",
    "            axes[iplot].set_yticklabels([])\n",
    "    \n",
    "    pop_fir_rate = np.mean(np.mean(all_spike_trains_pop, axis = 0), axis = 0) * 1E3\n",
    "    \n",
    "    #all_spike_trains_pop_rs = all_spike_trains_pop.reshape(all_spike_trains_pop.shape[0]*\\\n",
    "    #                                                       all_spike_trains_pop.shape[1],-1)\n",
    "    \n",
    "    fir_rate_trial_avg = np.mean(all_spike_trains_pop, axis = 1)\n",
    "    \n",
    "    #std_time_resolved =  np.std(all_spike_trains_pop_rs, axis = 0)[tstim_onset:tstim_onset+100]*1E3\n",
    "    \n",
    "    std_of_trial_avg =  np.std(fir_rate_trial_avg, axis = 0)[tstim_onset_exp:tstim_onset_exp+105]*1E3\n",
    "    \n",
    "    std_of_trial_avg = gaussian_filter(std_of_trial_avg, sigma = 2)\n",
    "\n",
    "    \n",
    "    \n",
    "    fir_rate_plot = gaussian_filter(pop_fir_rate, sigma = 2)[tstim_onset_exp:tstim_onset_exp+105]\n",
    "    \n",
    "    time = np.arange(0, 105, 1)\n",
    "    \n",
    "    axes[iplot].plot(time, fir_rate_plot, color = 'k', label = fir_rate_label)\n",
    "    \n",
    "    axes[iplot].fill_between(x = time, y1 = fir_rate_plot-std_of_trial_avg, \\\n",
    "                             y2 = fir_rate_plot+std_of_trial_avg, color = (0.5,0.5,0.5), \n",
    "                             alpha = 0.2)\n",
    "    \n",
    "    for isim, sim_name in enumerate(sim_names[::-1]):\n",
    "        \n",
    "        #if '19' not in sim_name:\n",
    "        #    continue\n",
    "        \n",
    "        \n",
    "        sim_spike_trains_layer_pop = sims_spike_trains_layer_pops[sim_name][pop_name]\n",
    "\n",
    "        sim_pop_fir_rate = np.mean(np.mean(sim_spike_trains_layer_pop[:, :10, \\\n",
    "                                    tstim_onset_sim:tstim_onset_sim+105], axis = 0), axis = 0)*1E3\n",
    "\n",
    "        sim_fir_rate_plot = gaussian_filter(sim_pop_fir_rate, sigma = 2)\n",
    "\n",
    "        if iplot == 0:\n",
    "            sim_label = sims_labels[sim_name]\n",
    "            #sim_label = sim_name\n",
    "        else:\n",
    "            sim_label = None\n",
    "        \n",
    "        axes[iplot].plot(time, sim_fir_rate_plot, color = sims_colors[sim_name], label = sim_label)\n",
    "        #axes[iplot].plot(time, sim_fir_rate_plot, label = sim_label)\n",
    "    \n",
    "    \n",
    "            \n",
    "    axes[iplot].set_xticks(np.arange(0,100+20,20))\n",
    "    axes[iplot].set_xticklabels(np.arange(0,100+20,20))\n",
    "    \n",
    "    axes[iplot].set_xlim([0,100])\n",
    "    \n",
    "    axes[iplot].set_title(pop_name)\n",
    "    iplot += 1\n",
    "    \n",
    "axes[0].set_ylabel('Firing rate (Hz)')\n",
    "\n",
    "fig.suptitle('Laminar population firing rates', y = 0.99, x = 0.445)\n",
    "    \n",
    "#plt.figtext(s = 'Time from flash onset (ms)', x = 0.43, y = 0.05)\n",
    "axes[2].set_xlabel('Time from flash onset (ms)')\n",
    "    \n",
    "fig.legend(bbox_to_anchor = (0.99, 0.82), frameon = False)\n",
    "print(sim_name)\n",
    "fig_name = 'exp_and_sim_pop_fir_rate_'+sim_name+'.png'\n",
    "\n",
    "savepath = os.path.join(fig_dir, fig_name)\n",
    "\n",
    "#fig.savefig(savepath, facecolor = 'w')"
   ]
  },
  {
   "cell_type": "code",
   "execution_count": null,
   "metadata": {},
   "outputs": [],
   "source": []
  },
  {
   "cell_type": "markdown",
   "metadata": {},
   "source": [
    "### KS-similarity\n",
    "\n",
    "- KS-similarity between distribution of firing rates across cells in simulations and distribution of firing rates across cells from all animals.\n",
    "- Note: You can load the pre-computed KS-similarities for all animals in cell below. If you are interested in how the KS-similarity is calculated, go to the notebook titled \"Figure_2_and_3\""
   ]
  },
  {
   "cell_type": "markdown",
   "metadata": {},
   "source": [
    "### Load data"
   ]
  },
  {
   "cell_type": "code",
   "execution_count": 62,
   "metadata": {},
   "outputs": [],
   "source": [
    "filename = 'exp_ks_simil_mode_w-RS-FS-naming.npy'\n",
    "loadpath = os.path.join(exp_data_dir, 'spikes', 'V1', 'KS-similarity', filename)\n",
    "\n",
    "sessions_mode_ks_simil = np.load(loadpath, allow_pickle = True)[()]"
   ]
  },
  {
   "cell_type": "code",
   "execution_count": 63,
   "metadata": {},
   "outputs": [],
   "source": [
    "mode_ks_simil_all = dict()\n",
    "\n",
    "for mode, sessions_ks_simil in sessions_mode_ks_simil.items():\n",
    "    ks_simil_all = dict()\n",
    "    ks_simil_all['RS L2/3'] = []\n",
    "    ks_simil_all['RS L4'] = []\n",
    "    ks_simil_all['RS L5'] = []\n",
    "    ks_simil_all['RS L6'] = []\n",
    "    ks_simil_all['FS'] = []\n",
    "\n",
    "    for session_id, ks_simil_pops in sessions_ks_simil.items():\n",
    "\n",
    "        for pop_name, ks_simil in ks_simil_pops.items():\n",
    "            if ks_simil == -1:\n",
    "                continue\n",
    "            elif pop_name == 'E23':\n",
    "                pop_name = 'E2/3'\n",
    "\n",
    "            ks_simil_all[pop_name].append(ks_simil)\n",
    "            \n",
    "    mode_ks_simil_all[mode] = ks_simil_all"
   ]
  },
  {
   "cell_type": "code",
   "execution_count": null,
   "metadata": {},
   "outputs": [],
   "source": []
  },
  {
   "cell_type": "markdown",
   "metadata": {},
   "source": [
    "### KS-similarity between model and experiments"
   ]
  },
  {
   "cell_type": "code",
   "execution_count": 64,
   "metadata": {},
   "outputs": [
    {
     "data": {
      "text/plain": [
       "dict_keys(['intermediate_model', 'old_model'])"
      ]
     },
     "execution_count": 64,
     "metadata": {},
     "output_type": "execute_result"
    }
   ],
   "source": [
    "sims_spike_trains_layer_pops.keys()"
   ]
  },
  {
   "cell_type": "code",
   "execution_count": 65,
   "metadata": {
    "scrolled": true
   },
   "outputs": [
    {
     "name": "stdout",
     "output_type": "stream",
     "text": [
      "intermediate_model\n",
      "peak\n",
      "RS L2/3\n",
      "RS L4\n",
      "RS L5\n",
      "RS L6\n",
      "FS\n",
      "baseline\n",
      "RS L2/3\n",
      "RS L4\n",
      "RS L5\n",
      "RS L6\n",
      "FS\n",
      "post-peak\n",
      "RS L2/3\n",
      "RS L4\n",
      "RS L5\n",
      "RS L6\n",
      "FS\n",
      "old_model\n",
      "peak\n",
      "RS L2/3\n",
      "RS L4\n",
      "RS L5\n",
      "RS L6\n",
      "FS\n",
      "baseline\n",
      "RS L2/3\n",
      "RS L4\n",
      "RS L5\n",
      "RS L6\n",
      "FS\n",
      "post-peak\n",
      "RS L2/3\n",
      "RS L4\n",
      "RS L5\n",
      "RS L6\n",
      "FS\n"
     ]
    }
   ],
   "source": [
    "sims_ks_simil_modes = dict()\n",
    "\n",
    "for sim_name, sim_spike_trains_layer_pops in sims_spike_trains_layer_pops.items():\n",
    "    print(sim_name)\n",
    "\n",
    "    sim_ks_simil_modes = dict()\n",
    "\n",
    "    for mode in ['peak', 'baseline', 'post-peak']:\n",
    "\n",
    "        print(mode)\n",
    "\n",
    "        if mode == 'peak':\n",
    "            t_start_exp = tstim_onset_exp+35\n",
    "            t_stop_exp = tstim_onset_exp+60\n",
    "\n",
    "            t_start_sim = tstim_onset_sim+35\n",
    "            t_stop_sim = tstim_onset_sim+60\n",
    "        elif mode == 'baseline':\n",
    "            t_start_exp = 500\n",
    "            t_stop_exp = tstim_onset_exp\n",
    "\n",
    "            t_start_sim = 0\n",
    "            t_stop_sim = tstim_onset_sim\n",
    "        elif mode == 'post-peak':\n",
    "            t_start_exp = tstim_onset_exp+60\n",
    "            t_stop_exp = tstim_onset_exp+100\n",
    "\n",
    "            t_start_sim = tstim_onset_sim+60\n",
    "            t_stop_sim = tstim_onset_sim+100\n",
    "\n",
    "        sim_ks_simil_pop = dict()\n",
    "        for pop_name, all_spike_trains_pop in all_spike_trains_layer_pops.items():\n",
    "            print(pop_name)\n",
    "\n",
    "            exp_spike_trains_pop = all_spike_trains_pop[:,:,t_start_exp:t_stop_exp]\n",
    "\n",
    "            sim_spike_trains_layer_pop = sim_spike_trains_layer_pops[pop_name][:,:ntrials_sim,t_start_sim:t_stop_sim]\n",
    "\n",
    "            sim_fir_rate = np.mean(np.mean(sim_spike_trains_layer_pop, axis = -1), axis = -1)\n",
    "\n",
    "            exp_fir_rate = np.mean(np.mean(exp_spike_trains_pop, axis = -1), axis = -1)\n",
    "\n",
    "            ks_dist = stats.ks_2samp(exp_fir_rate, sim_fir_rate)[0]\n",
    "\n",
    "            ks_simil_temp = 1-ks_dist\n",
    "\n",
    "            sim_ks_simil_pop[pop_name] = ks_simil_temp\n",
    "\n",
    "        sim_ks_simil_modes[mode] = sim_ks_simil_pop\n",
    "        \n",
    "    sims_ks_simil_modes[sim_name] = sim_ks_simil_modes"
   ]
  },
  {
   "cell_type": "code",
   "execution_count": 67,
   "metadata": {},
   "outputs": [
    {
     "data": {
      "image/png": "[encoded data removed]",
      "text/plain": [
       "<Figure size 288x360 with 1 Axes>"
      ]
     },
     "metadata": {
      "needs_background": "light"
     },
     "output_type": "display_data"
    },
    {
     "data": {
      "image/png": "[encoded data removed]",
      "text/plain": [
       "<Figure size 288x360 with 1 Axes>"
      ]
     },
     "metadata": {
      "needs_background": "light"
     },
     "output_type": "display_data"
    },
    {
     "data": {
      "image/png": "[encoded data removed]",
      "text/plain": [
       "<Figure size 288x360 with 1 Axes>"
      ]
     },
     "metadata": {
      "needs_background": "light"
     },
     "output_type": "display_data"
    }
   ],
   "source": [
    "for mode in ['baseline', 'peak', 'post-peak']:\n",
    "\n",
    "    fig, ax = plt.subplots(ncols = 1, figsize = (4,5), sharey = True)\n",
    "\n",
    "    fig.subplots_adjust(wspace = 0.3, left = 0.22, right = 0.92, bottom = 0.2, top = 0.91)\n",
    "\n",
    "    ks_simil_all = mode_ks_simil_all[mode]\n",
    "\n",
    "    ipop = 0\n",
    "    for pop_name, ks_simil_pop in ks_simil_all.items():\n",
    "        ax.boxplot(ks_simil_pop, positions = [0.3*ipop])\n",
    "\n",
    "        ax.spines['top'].set_visible(False)\n",
    "        ax.spines['right'].set_visible(False)\n",
    "\n",
    "        for sim_name, sim_ks_simil_modes in sorted(sims_ks_simil_modes.items()):\n",
    "\n",
    "            #if '24' in sim_name:\n",
    "            #    continue\n",
    "\n",
    "            sim_ks_simil_pop = sim_ks_simil_modes[mode][pop_name]\n",
    "\n",
    "            if ipop == 0:\n",
    "                sim_label = sims_labels[sim_name]\n",
    "                #sim_label = sim_name\n",
    "            else:\n",
    "                sim_label = None\n",
    "\n",
    "            ax.plot(0.3*ipop, sim_ks_simil_pop, 'D', color = sims_colors[sim_name], label = sim_label)\n",
    "\n",
    "        ipop += 1\n",
    "\n",
    "\n",
    "    ax.set_xticklabels(list(ks_simil_all.keys()), rotation = 45)\n",
    "\n",
    "    #fig.legend()\n",
    "\n",
    "    ax.set_ylim([0.0, 1])\n",
    "    ax.set_xlim([0-0.3/2,0.3*(ipop-1/2)])\n",
    "    ax.set_ylabel('KS-similarity score')\n",
    "\n",
    "    if mode == 'baseline':\n",
    "        mode_title = 'at baseline'\n",
    "    elif mode == 'peak':\n",
    "        mode_title = 'at peak'\n",
    "    elif mode == 'post-peak':\n",
    "        mode_title = 'during \\nsustained'\n",
    "\n",
    "    fig.suptitle('KS-similarity '+mode_title, x = 0.58, y = 0.98, fontsize = 18)\n",
    "\n",
    "    #fig.legend(bbox_to_anchor = (1.5,0.9))\n",
    "\n",
    "    fig_name = 'KS-similarity-at-'+mode+'-'+sim_name+'.png'\n",
    "    #savepath = os.path.join('Figures', 'Supplementary_figures', fig_name)\n",
    "    savepath = os.path.join(fig_dir, fig_name)\n",
    "\n",
    "\n",
    "    #fig.savefig(savepath, facecolor = 'w')"
   ]
  },
  {
   "cell_type": "markdown",
   "metadata": {},
   "source": [
    "## Correlation"
   ]
  },
  {
   "cell_type": "markdown",
   "metadata": {},
   "source": [
    "- Correlation between trial-averaged population firing rates\n",
    "- Note: You can load the pre-computed correlation for all animals in cells further below. You can go to the notebook titled \"Figure_2_and_3\" to see how the calculation is done."
   ]
  },
  {
   "cell_type": "markdown",
   "metadata": {},
   "source": [
    "### Load data"
   ]
  },
  {
   "cell_type": "code",
   "execution_count": 68,
   "metadata": {},
   "outputs": [],
   "source": [
    "filename = 'exp_corr_fir_rate-w-RS-FS-naming.npy'\n",
    "loadpath = os.path.join(exp_data_dir, 'spikes', 'V1', 'correlation', filename)\n",
    "\n",
    "sessions_corr_fir_rate = np.load(loadpath, allow_pickle = True)[()]"
   ]
  },
  {
   "cell_type": "code",
   "execution_count": null,
   "metadata": {},
   "outputs": [],
   "source": []
  },
  {
   "cell_type": "code",
   "execution_count": 69,
   "metadata": {},
   "outputs": [],
   "source": [
    "corr_fir_rates_all = dict()\n",
    "corr_fir_rates_all['RS L2/3'] = []\n",
    "corr_fir_rates_all['RS L4'] = []\n",
    "corr_fir_rates_all['RS L5'] = []\n",
    "corr_fir_rates_all['RS L6'] = []\n",
    "corr_fir_rates_all['FS'] = []\n",
    "\n",
    "for session_id, corr_fir_rate_pops in sessions_corr_fir_rate.items():\n",
    "\n",
    "    for pop_name, corr_fir_rates in corr_fir_rate_pops.items():\n",
    "        if corr_fir_rates == -1:\n",
    "            continue\n",
    "        elif pop_name == 'E23':\n",
    "            pop_name = 'E2/3'\n",
    "\n",
    "        corr_fir_rates_all[pop_name].append(corr_fir_rates)"
   ]
  },
  {
   "cell_type": "code",
   "execution_count": null,
   "metadata": {},
   "outputs": [],
   "source": []
  },
  {
   "cell_type": "markdown",
   "metadata": {},
   "source": [
    "### Correlation between sim and exp trial avg firing rate"
   ]
  },
  {
   "cell_type": "code",
   "execution_count": 70,
   "metadata": {},
   "outputs": [
    {
     "name": "stdout",
     "output_type": "stream",
     "text": [
      "RS L2/3\n",
      "intermediate_model RS L2/3 r =  0.49 p = 0.0\n",
      "RS L4\n",
      "intermediate_model RS L4 r =  0.63 p = 0.0\n",
      "RS L5\n",
      "intermediate_model RS L5 r =  0.71 p = 0.0\n",
      "RS L6\n",
      "intermediate_model RS L6 r =  0.87 p = 0.0\n",
      "FS\n",
      "intermediate_model FS r =  0.76 p = 0.0\n",
      "RS L2/3\n",
      "old_model RS L2/3 r =  0.38 p = 0.0001\n",
      "RS L4\n",
      "old_model RS L4 r =  0.62 p = 0.0\n",
      "RS L5\n",
      "old_model RS L5 r =  0.76 p = 0.0\n",
      "RS L6\n",
      "old_model RS L6 r =  0.89 p = 0.0\n",
      "FS\n",
      "old_model FS r =  0.8 p = 0.0\n"
     ]
    }
   ],
   "source": [
    "t_start_exp = tstim_onset_exp\n",
    "t_stop_exp = tstim_onset_exp+100\n",
    "\n",
    "t_start_sim = tstim_onset_sim\n",
    "t_stop_sim = tstim_onset_sim+100\n",
    "\n",
    "sims_corr_pop_fir_rates = dict()\n",
    "for sim_name, sim_spike_trains_layer_pops in sims_spike_trains_layer_pops.items():\n",
    "    sim_corr_pop_fir_rates = dict()\n",
    "    for pop_name, all_spike_trains_pop in all_spike_trains_layer_pops.items():\n",
    "        print(pop_name)\n",
    "\n",
    "        exp_spike_trains_pop = all_spike_trains_pop[:,:,t_start_exp:t_stop_exp]\n",
    "\n",
    "        sim_spike_trains_layer_pop = sim_spike_trains_layer_pops[pop_name][:,:ntrials_sim,t_start_sim:t_stop_sim]\n",
    "\n",
    "        sim_fir_rate = np.mean(np.mean(sim_spike_trains_layer_pop, axis = 0), axis = 0)\n",
    "\n",
    "        exp_fir_rate = np.mean(np.mean(exp_spike_trains_pop, axis = 0), axis = 0)\n",
    "\n",
    "        corr, p = stats.pearsonr(exp_fir_rate, sim_fir_rate)\n",
    "        \n",
    "        print(sim_name, pop_name, 'r = ', np.round(corr, 2), 'p =', np.round(p,4))\n",
    "        \n",
    "        #corr = np.dot(sim_fir_rate, exp_fir_rate) / (np.linalg.norm(sim_fir_rate)*np.linalg.norm(exp_fir_rate))\n",
    "\n",
    "        sim_corr_pop_fir_rates[pop_name] = corr\n",
    "        \n",
    "    sims_corr_pop_fir_rates[sim_name] = sim_corr_pop_fir_rates"
   ]
  },
  {
   "cell_type": "code",
   "execution_count": 71,
   "metadata": {},
   "outputs": [
    {
     "data": {
      "image/png": "[encoded data removed]",
      "text/plain": [
       "<Figure size 468x360 with 1 Axes>"
      ]
     },
     "metadata": {
      "needs_background": "light"
     },
     "output_type": "display_data"
    }
   ],
   "source": [
    "fig, ax = plt.subplots(ncols = 1, figsize = (6.5,5), sharey = True)\n",
    "\n",
    "fig.subplots_adjust(left = 0.16, right = 0.54, bottom = 0.18, top = 0.8)\n",
    "\n",
    "ipop = 0\n",
    "for pop_name, corr_fir_rate_pop in corr_fir_rates_all.items():\n",
    "    ax.boxplot(corr_fir_rate_pop, positions = [0.3*ipop])\n",
    "        \n",
    "    for sim_name in sim_names[::-1]:\n",
    "        sim_corr_pop_fir_rates = sims_corr_pop_fir_rates[sim_name]\n",
    "        if ipop == 0:\n",
    "            sim_label = sims_labels[sim_name]\n",
    "        else:\n",
    "            sim_label = None\n",
    "            \n",
    "        ax.plot(0.3*ipop, sim_corr_pop_fir_rates[pop_name], 'D', color = sims_colors[sim_name], label = sim_label)\n",
    "\n",
    "    ipop+=1\n",
    "\n",
    "    \n",
    "ax.spines['top'].set_visible(False)\n",
    "ax.spines['right'].set_visible(False)\n",
    "\n",
    "ax.set_ylim([-.52, 1])\n",
    "ax.set_ylabel('Correlation')\n",
    "\n",
    "ax.set_title('Correlation with \\naverage firing rate', x = 0.5, y = 1.1, fontsize = 18)\n",
    "\n",
    "\n",
    "ax.set_xlim([0-0.3/2,0.3*(ipop-1/2)])\n",
    "ax.set_xticklabels(list(corr_fir_rates_all.keys()), rotation = 45)\n",
    "\n",
    "fig.legend(bbox_to_anchor = (0.95, 0.85), frameon = False)\n",
    "    \n",
    "fig_name = 'correlation-0-100ms-'+sim_name+'.png'\n",
    "savepath = os.path.join(fig_dir, fig_name)\n",
    "\n",
    "#fig.savefig(savepath, facecolor = 'w')"
   ]
  },
  {
   "cell_type": "markdown",
   "metadata": {},
   "source": [
    "### LFP and CSD"
   ]
  },
  {
   "cell_type": "code",
   "execution_count": 111,
   "metadata": {},
   "outputs": [],
   "source": [
    "\n",
    "#filename = 'cortical_depth_'+str(session_id)+'.csv'\n",
    "#loadpath = os.path.join(exp_meta_data_dir, 'probes_cortical_depths', filename)\n",
    "sessions_df_depth = dict()\n",
    "loadpaths = sorted(glob(os.path.join(exp_meta_data_dir, 'probes_cortical_depths', '*')))\n",
    "for loadpath in loadpaths:\n",
    "    session_id = loadpath.split('/')[-1].split('.')[0].split('_')[-1]\n",
    "    df_depth = pd.read_csv(loadpath, sep=' ')\n",
    "    df_depth = df_depth.set_index('id')\n",
    "    sessions_df_depth[session_id] = df_depth\n"
   ]
  },
  {
   "cell_type": "code",
   "execution_count": 116,
   "metadata": {},
   "outputs": [],
   "source": [
    "session_id = list(sessions_df_depth.keys())[1]\n",
    "\n",
    "channel_step_exp = 5\n",
    "depth_ticks_exp = np.arange(0, len(channels_vert_pos), channel_step_exp)\n",
    "depth_step_exp = channel_step_exp*np.diff(channels_vert_pos)[0]\n",
    "depth_ticklabels_exp = np.arange(channels_vert_pos[0], channels_vert_pos[-1]+depth_step_exp, depth_step_exp) \n",
    "\n",
    "\n",
    "time_start_label_exp = 0\n",
    "time_stop_label_exp = 100\n",
    "time_step_label_exp = 20\n",
    "time_ticklabels_exp = np.arange(time_start_label_exp, time_stop_label_exp+time_step_label_exp, time_step_label_exp)\n",
    "sf = 1250\n",
    "time_tick_step_exp = int(time_step_label_exp*sf/1E3)\n",
    "time_ticks_exp = np.arange(0, sessions_csd_trial_avg[session_id].shape[-1]+time_tick_step_exp, time_tick_step_exp)"
   ]
  },
  {
   "cell_type": "code",
   "execution_count": null,
   "metadata": {},
   "outputs": [],
   "source": []
  },
  {
   "cell_type": "markdown",
   "metadata": {},
   "source": [
    "## PCA on trial averaged CSD"
   ]
  },
  {
   "cell_type": "markdown",
   "metadata": {},
   "source": [
    "### Interpolate and normalize"
   ]
  },
  {
   "cell_type": "markdown",
   "metadata": {},
   "source": [
    "#### Exp"
   ]
  },
  {
   "cell_type": "code",
   "execution_count": 72,
   "metadata": {},
   "outputs": [],
   "source": [
    "sessions_csd_trial_avg_interp = dict()\n",
    "sessions_sinks_trial_avg_interp = dict()\n",
    "sessions_sources_trial_avg_interp = dict()\n",
    "\n",
    "sp_len = 30; t_len = 100\n",
    "for i_sess, session_id in enumerate(sessions_csd_trial_avg_short.keys()):\n",
    "    csd_trial_avg = sessions_csd_trial_avg_short[session_id]\n",
    "    \n",
    "    sinks_interp = np.zeros((sp_len, t_len))\n",
    "    sources_interp = np.zeros((sp_len, t_len))\n",
    "    \n",
    "    z = csd_trial_avg\n",
    "    x = np.linspace(0., 1., z.shape[1], endpoint=True)\n",
    "    y = np.linspace(0., 1., z.shape[0], endpoint=True)\n",
    "    #xx, yy = np.meshgrid(x, y)\n",
    "    f = interpolate.interp2d(x, y, z, kind='cubic')\n",
    "\n",
    "    x_new = np.linspace(0., 1., t_len, endpoint=True)\n",
    "    y_new = np.linspace(0., 1., sp_len, endpoint=True)\n",
    "    csd_interp = f(x_new, y_new)\n",
    "    \n",
    "    mask_sinks = csd_interp < 0\n",
    "    mask_sources = csd_interp > 0\n",
    "    \n",
    "    sinks_interp[mask_sinks] = np.abs(csd_interp[mask_sinks])\n",
    "    sources_interp[mask_sources] = np.abs(csd_interp[mask_sources])\n",
    "    \n",
    "    \n",
    "    sessions_csd_trial_avg_interp[session_id] = csd_interp/np.abs(csd_interp).max()\n",
    "    sessions_sinks_trial_avg_interp[session_id] = sinks_interp/sinks_interp.sum()\n",
    "    sessions_sources_trial_avg_interp[session_id] = sources_interp/sources_interp.sum()"
   ]
  },
  {
   "cell_type": "markdown",
   "metadata": {},
   "source": [
    "### Doing the PCA"
   ]
  },
  {
   "cell_type": "code",
   "execution_count": 77,
   "metadata": {},
   "outputs": [
    {
     "data": {
      "text/plain": [
       "PCA(n_components=44)"
      ]
     },
     "execution_count": 77,
     "metadata": {},
     "output_type": "execute_result"
    }
   ],
   "source": [
    "csd_trial_avg_interp_grand = np.array(list(sessions_csd_trial_avg_interp.values()))\n",
    "csd_trial_avg_interp_grand = csd_trial_avg_interp_grand.reshape(csd_trial_avg_interp_grand.shape[0], \n",
    "                        csd_trial_avg_interp_grand.shape[1]*csd_trial_avg_interp_grand.shape[2])\n",
    "\n",
    "n_components = csd_trial_avg_interp_grand.shape[0]\n",
    "pca = PCA(n_components=n_components)\n",
    "\n",
    "pca.fit(csd_trial_avg_interp_grand.T)"
   ]
  },
  {
   "cell_type": "code",
   "execution_count": 78,
   "metadata": {},
   "outputs": [
    {
     "name": "stdout",
     "output_type": "stream",
     "text": [
      "[5.03910403e-01 1.38802335e-01 6.61447376e-02 5.30769109e-02\n",
      " 3.32573348e-02 2.73709661e-02 2.26092151e-02 2.01221678e-02\n",
      " 1.61550654e-02 1.30111692e-02 1.20868404e-02 1.03926962e-02\n",
      " 9.41570153e-03 9.14499572e-03 6.42395357e-03 5.56246257e-03\n",
      " 5.29747046e-03 4.34798311e-03 4.01254791e-03 3.89161973e-03\n",
      " 3.56123120e-03 3.07196030e-03 2.93426248e-03 2.76032325e-03\n",
      " 2.34272899e-03 2.23431932e-03 1.97779675e-03 1.81658373e-03\n",
      " 1.61282564e-03 1.44059109e-03 1.35826902e-03 1.30787127e-03\n",
      " 1.15977315e-03 1.09017860e-03 9.22867875e-04 8.02214636e-04\n",
      " 7.85934912e-04 7.20523152e-04 6.29956384e-04 5.91210127e-04\n",
      " 5.30757358e-04 4.64248098e-04 4.43407897e-04 4.03589006e-04]\n"
     ]
    }
   ],
   "source": [
    "print(pca.explained_variance_ratio_)"
   ]
  },
  {
   "cell_type": "markdown",
   "metadata": {},
   "source": [
    "#### Reshape components into CSD shape with (space, time) interpolated dimensions"
   ]
  },
  {
   "cell_type": "code",
   "execution_count": 80,
   "metadata": {},
   "outputs": [],
   "source": [
    "# Look at first four components\n",
    "recon = np.empty((4, sp_len, t_len))\n",
    "for compNr in range(4):\n",
    "    recon[compNr] = np.dot(pca.components_[compNr], csd_trial_avg_interp_grand).reshape(sp_len, t_len)*\\\n",
    "                        pca.explained_variance_ratio_[compNr]"
   ]
  },
  {
   "cell_type": "code",
   "execution_count": null,
   "metadata": {},
   "outputs": [],
   "source": []
  },
  {
   "cell_type": "markdown",
   "metadata": {},
   "source": [
    "### Split sources and sinks and do wasserstein distance calculation from trial-averaged CSD in individual animals to PC 1 CSD"
   ]
  },
  {
   "cell_type": "code",
   "execution_count": 85,
   "metadata": {},
   "outputs": [],
   "source": [
    "recon_sinks_list = np.empty_like(recon)\n",
    "recon_sources_list = np.empty_like(recon)\n",
    "\n",
    "for compNr in range(recon.shape[0]):\n",
    "    recon_temp = recon[compNr]\n",
    "    mask_sinks = recon_temp < 0\n",
    "    mask_sources = recon_temp > 0\n",
    "    \n",
    "    sinks_recon_temp = np.zeros_like(recon_temp)\n",
    "    sinks_recon_temp[mask_sinks] = np.abs(recon_temp[mask_sinks])\n",
    "    sources_recon_temp = np.zeros_like(recon_temp)\n",
    "    sources_recon_temp[mask_sources] = np.abs(recon_temp[mask_sources])\n",
    "    \n",
    "    recon_sinks_list[compNr] = sinks_recon_temp/sinks_recon_temp.sum()\n",
    "    recon_sources_list[compNr] = sources_recon_temp/sources_recon_temp.sum()"
   ]
  },
  {
   "cell_type": "code",
   "execution_count": null,
   "metadata": {},
   "outputs": [],
   "source": []
  },
  {
   "cell_type": "code",
   "execution_count": 86,
   "metadata": {},
   "outputs": [],
   "source": [
    "sinks_mice = np.array(list(sessions_sinks_trial_avg_interp.values()))\n",
    "sources_mice = np.array(list(sessions_sources_trial_avg_interp.values()))"
   ]
  },
  {
   "cell_type": "code",
   "execution_count": 89,
   "metadata": {},
   "outputs": [
    {
     "name": "stderr",
     "output_type": "stream",
     "text": [
      "100%|██████████| 44/44 [00:31<00:00,  1.39it/s]\n",
      "100%|██████████| 44/44 [00:33<00:00,  1.31it/s]\n"
     ]
    }
   ],
   "source": [
    "n_animals = len(sinks_mice)\n",
    "# for sinks\n",
    "compNr = 0 # selecting PC 1 component\n",
    "sink_matrix_recon_exp, M_sink_recon_exp, G0_sink_recon_exp, x_s, x_t = compute_dist_matrix_exp(sinks_mice[:n_animals], \n",
    "                                                                             recon_sinks_list[compNr:compNr+1],\n",
    "                                                                            mode = 'exp_to_reco')\n",
    "\n",
    "# for sources\n",
    "source_matrix_recon_exp, M_source_recon_exp, G0_source_recon_exp, x_s, x_t = compute_dist_matrix_exp(sources_mice[:n_animals], \n",
    "                                                                             recon_sources_list[compNr:compNr+1],\n",
    "                                                                            mode = 'exp_to_reco')\n",
    "\n",
    "# sum wasserstein distances calculated for sinks and sources into one matrix of Wasserstein distances from \n",
    "# individual animals to PC 1 CSD\n",
    "dist_matrix_recon_exp = sink_matrix_recon_exp+source_matrix_recon_exp"
   ]
  },
  {
   "cell_type": "markdown",
   "metadata": {},
   "source": [
    "### WD between model CSD and PC 1 CSD"
   ]
  },
  {
   "cell_type": "markdown",
   "metadata": {},
   "source": [
    "#### Interpolate and normalize"
   ]
  },
  {
   "cell_type": "code",
   "execution_count": 83,
   "metadata": {},
   "outputs": [],
   "source": [
    "sims_sinks = dict()\n",
    "sims_sources = dict()\n",
    "\n",
    "sims_csd_interp = dict()\n",
    "\n",
    "n_chans_in_cortex_sim = 21\n",
    "for sim_name in csd_sims.keys():\n",
    "    z = csd_sims[sim_name]['trial_avg'][:n_chans_in_cortex_sim,tstim_onset_sim:tstim_onset_sim+100]\n",
    "    x = np.linspace(0., 1., z.shape[1], endpoint=True)\n",
    "    y = np.linspace(0., 1., z.shape[0], endpoint=True)\n",
    "    #xx, yy = np.meshgrid(x, y)\n",
    "    f = interpolate.interp2d(x, y, z, kind='cubic')\n",
    "\n",
    "    x_new = np.linspace(0., 1., t_len, endpoint=True)\n",
    "    y_new = np.linspace(0., 1., sp_len, endpoint=True)\n",
    "    csd_interp = f(x_new, y_new)\n",
    "\n",
    "    sims_csd_interp[sim_name] = csd_interp\n",
    "\n",
    "    mask_sinks = csd_interp < 0\n",
    "    mask_sources = csd_interp > 0\n",
    "\n",
    "    sinks_interp = np.zeros_like(csd_interp)\n",
    "    sources_interp = np.zeros_like(csd_interp)\n",
    "\n",
    "    sinks_interp[mask_sinks] = np.abs(csd_interp[mask_sinks])\n",
    "    sources_interp[mask_sources] = np.abs(csd_interp[mask_sources])\n",
    "\n",
    "    sims_sinks[sim_name] = sinks_interp / sinks_interp.sum()\n",
    "    sims_sources[sim_name] = sources_interp / sources_interp.sum()\n",
    "\n",
    "\n",
    "    sims_sinks_list = np.array(list(sims_sinks.values()))\n",
    "    sims_sources_list = np.array(list(sims_sources.values()))"
   ]
  },
  {
   "cell_type": "markdown",
   "metadata": {},
   "source": [
    "#### Compute the WD"
   ]
  },
  {
   "cell_type": "code",
   "execution_count": 90,
   "metadata": {},
   "outputs": [
    {
     "name": "stderr",
     "output_type": "stream",
     "text": [
      "100%|██████████| 1/1 [00:00<00:00,  1.17it/s]\n",
      "100%|██████████| 1/1 [00:00<00:00,  1.53it/s]\n",
      "100%|██████████| 1/1 [00:00<00:00,  1.24it/s]\n",
      "100%|██████████| 1/1 [00:00<00:00,  1.60it/s]\n"
     ]
    }
   ],
   "source": [
    "compNr = 0\n",
    "\n",
    "dist_matrix_recon_sims = dict()\n",
    "\n",
    "for sim_name in sims_sinks.keys():\n",
    "    sink_matrix_recon_sim, M_sink_recon_sim, G0_sink_recon_sim, x_s, x_t = compute_dist_matrix_exp(\n",
    "                                                                                recon_sinks_list[compNr:compNr+1], \n",
    "                                                                                [sims_sinks[sim_name]],\n",
    "                                                                                mode = 'sim_to_recon')\n",
    "    \n",
    "    source_matrix_recon_sim, M_source_recon_sim, G0_source_recon_sim, x_s, x_t = compute_dist_matrix_exp(\n",
    "                                                                            recon_sources_list[compNr:compNr+1], \n",
    "                                                                            [sims_sources[sim_name]],\n",
    "                                                                            mode = 'sim_to_recon')\n",
    "    \n",
    "    dist_matrix_recon_sims[sim_name] = sink_matrix_recon_sim + source_matrix_recon_sim\n",
    "    "
   ]
  },
  {
   "cell_type": "code",
   "execution_count": null,
   "metadata": {},
   "outputs": [],
   "source": []
  },
  {
   "cell_type": "code",
   "execution_count": 92,
   "metadata": {},
   "outputs": [
    {
     "name": "stdout",
     "output_type": "stream",
     "text": [
      "['old_model', 'intermediate_model']\n",
      "old_model\n",
      "intermediate_model\n"
     ]
    },
    {
     "data": {
      "image/png": "[encoded data removed]",
      "text/plain": [
       "<Figure size 396x432 with 1 Axes>"
      ]
     },
     "metadata": {
      "needs_background": "light"
     },
     "output_type": "display_data"
    }
   ],
   "source": [
    "fig = plt.figure(figsize = (5.5,6))\n",
    "\n",
    "ax = fig.add_subplot(1,1,1)\n",
    "\n",
    "fig.subplots_adjust(left = 0.2, right = 0.8, bottom = 0.03, top = 0.89)\n",
    "\n",
    "bp1 = ax.boxplot(x = dist_matrix_recon_exp[:,compNr]/dist_matrix_recon_exp[:,compNr].max(), positions = [1], widths = [0.07], patch_artist = True, \\\n",
    "                         boxprops=dict(facecolor=\"white\"))\n",
    "\n",
    "\n",
    "sim_names = sorted(list(dist_matrix_recon_sims.keys()))\n",
    "sim_names = sim_names[1:] + [sim_names[0]]\n",
    "print(sim_names)\n",
    "\n",
    "for isim, sim_name in enumerate(sim_names):\n",
    "    print(sim_name)\n",
    "\n",
    "    ax.plot(1, dist_matrix_recon_sims[sim_name]/dist_matrix_recon_exp[:,compNr].max(), 'd', markersize = '12', color = sims_colors[sim_name], label = sims_labels[sim_name])\n",
    "\n",
    "ax.set_xticks([])\n",
    "ax.set_ylabel('Normalized Wasserstein \\ndistance to CSD of PC 1')\n",
    "#ax.set_ylabel('PDF')\n",
    "\n",
    "ax.set_xlim([0.8, 2.2])\n",
    "\n",
    "fig.legend(bbox_to_anchor = (0.92,0.8), frameon=False)\n",
    "\n",
    "ax.set_title('WD from model CSD \\nto experimental PC 1 CSD')\n",
    "\n",
    "ax.spines['top'].set_visible(False)\n",
    "ax.spines['right'].set_visible(False)\n",
    "\n",
    "\n",
    "#fig_name = 'smooth_pdf_WD_distr_animals_to_PC1.png'\n",
    "\n",
    "fig_name = 'WD_distr_exp_and_sim_to_PC1_'+sim_name+'.png'\n",
    "\n",
    "savepath = os.path.join('Figure 4', fig_name)\n",
    "\n",
    "#fig.savefig(savepath, facecolor='w')"
   ]
  }
 ],
 "metadata": {
  "kernelspec": {
   "display_name": "Python 3",
   "language": "python",
   "name": "python3"
  },
  "language_info": {
   "codemirror_mode": {
    "name": "ipython",
    "version": 3
   },
   "file_extension": ".py",
   "mimetype": "text/x-python",
   "name": "python",
   "nbconvert_exporter": "python",
   "pygments_lexer": "ipython3",
   "version": "3.7.6"
  }
 },
 "nbformat": 4,
 "nbformat_minor": 4
}
